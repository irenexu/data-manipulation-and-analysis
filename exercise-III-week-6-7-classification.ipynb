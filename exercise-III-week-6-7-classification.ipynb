{
 "cells": [
  {
   "cell_type": "markdown",
   "metadata": {},
   "source": [
    "# Exercise III - Classification (Week 6 & 7) \n",
    "\n",
    "This exercise focuses on building a model with suitable features for classification tasks based on the content taught in Week 6 - Classification and Week 7 - Random Forests and Feature Engineering."
   ]
  },
  {
   "cell_type": "markdown",
   "metadata": {},
   "source": [
    "### Dataset: Prep (Data Cleaning) & Overview"
   ]
  },
  {
   "cell_type": "code",
   "execution_count": 1,
   "metadata": {},
   "outputs": [],
   "source": [
    "import pandas as pd\n",
    "import numpy as np\n",
    "# for data visualisation, plotting\n",
    "import matplotlib.pyplot as plt\n",
    "# for colormap\n",
    "from matplotlib import colormaps \n",
    "# for ml\n",
    "from sklearn.metrics import accuracy_score, confusion_matrix, classification_report\n",
    "from sklearn.tree import DecisionTreeClassifier\n",
    "from sklearn.model_selection import train_test_split\n",
    "from sklearn.tree import plot_tree\n",
    "from sklearn.ensemble import AdaBoostClassifier, RandomForestClassifier"
   ]
  },
  {
   "cell_type": "code",
   "execution_count": 2,
   "metadata": {},
   "outputs": [],
   "source": [
    "# not use scientific notation for numbers (e.g 1.003767687e-12)\n",
    "pd.set_option('display.float_format','{:.5f}'.format)\n",
    "np.set_printoptions(suppress=True)"
   ]
  },
  {
   "cell_type": "markdown",
   "metadata": {},
   "source": [
    "The main dataset used in this exercise is the same one that was used in the exerciese 3 - regression [Kaggle - Housing in London](https://www.kaggle.com/datasets/justinas/housing-in-london) by JUSTINAS CIRTAUTAS, which is centered around the housing market of London with a lot of additional relevant data (e.g., population size, mean salary). I was hoping to conduct both regression and classification tasks on a same datset to see what interesting relatinships and findings I can draw. \n",
    "\n",
    "Another dataset used for random forests is also obtained from Kaggle - [Titanic Dataset](https://www.kaggle.com/datasets/yasserh/titanic-dataset), using the classification to determine what types of passengers has the greatest chance of survival."
   ]
  },
  {
   "cell_type": "code",
   "execution_count": 3,
   "metadata": {},
   "outputs": [],
   "source": [
    "# https://www.kaggle.com/datasets/justinas/housing-in-london- the same dataset used in Exercise 3\n",
    "# split by borough, remove columns splited by other geographical regions to avoid duplications\n",
    "# salary, population per year\n",
    "df_yearly = pd.read_csv(\"./data/housing_in_london_yearly_variables.csv\")\n",
    "df_yearly = df_yearly[df_yearly['borough_flag'] == 1]\n",
    "\n",
    "# avg. housing price per month\n",
    "df_monthly = pd.read_csv(\"./data/housing_in_london_monthly_variables.csv\")\n",
    "df_monthly = df_monthly[df_monthly['borough_flag'] == 1]"
   ]
  },
  {
   "cell_type": "code",
   "execution_count": 4,
   "metadata": {},
   "outputs": [],
   "source": [
    "df_yearly = df_yearly.drop('borough_flag', axis=1)\n",
    "df_monthly = df_monthly.drop('borough_flag', axis=1)"
   ]
  },
  {
   "cell_type": "code",
   "execution_count": 5,
   "metadata": {},
   "outputs": [],
   "source": [
    "# convert date to year\n",
    "df_yearly['date'] = pd.to_datetime(df_yearly['date'])\n",
    "df_yearly['year'] = df_yearly['date'].dt.year\n",
    "df_yearly['date'] = df_yearly['year']\n",
    "\n",
    "df_monthly['date'] = pd.to_datetime(df_monthly['date'])\n",
    "df_monthly['year'] = df_monthly['date'].dt.year\n",
    "df_monthly['date'] = df_monthly['year']"
   ]
  },
  {
   "cell_type": "code",
   "execution_count": 6,
   "metadata": {},
   "outputs": [],
   "source": [
    "avg_price_per_year = df_monthly.groupby(['date', 'area']).agg({'average_price': 'mean'}).reset_index()"
   ]
  },
  {
   "cell_type": "code",
   "execution_count": 7,
   "metadata": {},
   "outputs": [],
   "source": [
    "df = pd.merge(df_yearly, avg_price_per_year, how='left', left_on=['date', 'area'], right_on=['date', 'area'])\n",
    "df = df.drop(['life_satisfaction', 'recycling_pct', 'number_of_jobs', 'area_size', 'no_of_houses', 'year'], axis=1)\n",
    "order = ['code', 'date', 'area', 'average_price', 'median_salary', 'mean_salary', 'population_size']\n",
    "df = df[order]\n",
    "df = df.drop(['code'], axis=1)"
   ]
  },
  {
   "cell_type": "code",
   "execution_count": 8,
   "metadata": {},
   "outputs": [],
   "source": [
    "columns_to_convert = ['average_price', 'median_salary', 'mean_salary', 'population_size']\n",
    "df[columns_to_convert] = df[columns_to_convert].apply(pd.to_numeric, errors='coerce')"
   ]
  },
  {
   "cell_type": "code",
   "execution_count": 9,
   "metadata": {},
   "outputs": [
    {
     "data": {
      "text/html": [
       "<div>\n",
       "<style scoped>\n",
       "    .dataframe tbody tr th:only-of-type {\n",
       "        vertical-align: middle;\n",
       "    }\n",
       "\n",
       "    .dataframe tbody tr th {\n",
       "        vertical-align: top;\n",
       "    }\n",
       "\n",
       "    .dataframe thead th {\n",
       "        text-align: right;\n",
       "    }\n",
       "</style>\n",
       "<table border=\"1\" class=\"dataframe\">\n",
       "  <thead>\n",
       "    <tr style=\"text-align: right;\">\n",
       "      <th></th>\n",
       "      <th>date</th>\n",
       "      <th>area</th>\n",
       "      <th>average_price</th>\n",
       "      <th>median_salary</th>\n",
       "      <th>mean_salary</th>\n",
       "      <th>population_size</th>\n",
       "    </tr>\n",
       "  </thead>\n",
       "  <tbody>\n",
       "    <tr>\n",
       "      <th>0</th>\n",
       "      <td>1999</td>\n",
       "      <td>city of london</td>\n",
       "      <td>171300.08333</td>\n",
       "      <td>33020.00000</td>\n",
       "      <td>48922.00000</td>\n",
       "      <td>6581.00000</td>\n",
       "    </tr>\n",
       "    <tr>\n",
       "      <th>1</th>\n",
       "      <td>1999</td>\n",
       "      <td>barking and dagenham</td>\n",
       "      <td>65320.83333</td>\n",
       "      <td>21480.00000</td>\n",
       "      <td>23620.00000</td>\n",
       "      <td>162444.00000</td>\n",
       "    </tr>\n",
       "    <tr>\n",
       "      <th>2</th>\n",
       "      <td>1999</td>\n",
       "      <td>barnet</td>\n",
       "      <td>136004.41667</td>\n",
       "      <td>19568.00000</td>\n",
       "      <td>23128.00000</td>\n",
       "      <td>313469.00000</td>\n",
       "    </tr>\n",
       "    <tr>\n",
       "      <th>3</th>\n",
       "      <td>1999</td>\n",
       "      <td>bexley</td>\n",
       "      <td>86777.66667</td>\n",
       "      <td>18621.00000</td>\n",
       "      <td>21386.00000</td>\n",
       "      <td>217458.00000</td>\n",
       "    </tr>\n",
       "    <tr>\n",
       "      <th>4</th>\n",
       "      <td>1999</td>\n",
       "      <td>brent</td>\n",
       "      <td>112157.41667</td>\n",
       "      <td>18532.00000</td>\n",
       "      <td>20911.00000</td>\n",
       "      <td>260317.00000</td>\n",
       "    </tr>\n",
       "    <tr>\n",
       "      <th>...</th>\n",
       "      <td>...</td>\n",
       "      <td>...</td>\n",
       "      <td>...</td>\n",
       "      <td>...</td>\n",
       "      <td>...</td>\n",
       "      <td>...</td>\n",
       "    </tr>\n",
       "    <tr>\n",
       "      <th>655</th>\n",
       "      <td>2018</td>\n",
       "      <td>sutton</td>\n",
       "      <td>379262.58333</td>\n",
       "      <td>28853.00000</td>\n",
       "      <td>32442.00000</td>\n",
       "      <td>204525.00000</td>\n",
       "    </tr>\n",
       "    <tr>\n",
       "      <th>656</th>\n",
       "      <td>2018</td>\n",
       "      <td>tower hamlets</td>\n",
       "      <td>446500.41667</td>\n",
       "      <td>49237.00000</td>\n",
       "      <td>69806.00000</td>\n",
       "      <td>317705.00000</td>\n",
       "    </tr>\n",
       "    <tr>\n",
       "      <th>657</th>\n",
       "      <td>2018</td>\n",
       "      <td>waltham forest</td>\n",
       "      <td>440859.41667</td>\n",
       "      <td>30298.00000</td>\n",
       "      <td>32875.00000</td>\n",
       "      <td>276700.00000</td>\n",
       "    </tr>\n",
       "    <tr>\n",
       "      <th>658</th>\n",
       "      <td>2018</td>\n",
       "      <td>wandsworth</td>\n",
       "      <td>596649.16667</td>\n",
       "      <td>34501.00000</td>\n",
       "      <td>45317.00000</td>\n",
       "      <td>326474.00000</td>\n",
       "    </tr>\n",
       "    <tr>\n",
       "      <th>659</th>\n",
       "      <td>2018</td>\n",
       "      <td>westminster</td>\n",
       "      <td>1020025.50000</td>\n",
       "      <td>43015.00000</td>\n",
       "      <td>63792.00000</td>\n",
       "      <td>255324.00000</td>\n",
       "    </tr>\n",
       "  </tbody>\n",
       "</table>\n",
       "<p>645 rows × 6 columns</p>\n",
       "</div>"
      ],
      "text/plain": [
       "     date                  area  average_price  median_salary  mean_salary  \\\n",
       "0    1999        city of london   171300.08333    33020.00000  48922.00000   \n",
       "1    1999  barking and dagenham    65320.83333    21480.00000  23620.00000   \n",
       "2    1999                barnet   136004.41667    19568.00000  23128.00000   \n",
       "3    1999                bexley    86777.66667    18621.00000  21386.00000   \n",
       "4    1999                 brent   112157.41667    18532.00000  20911.00000   \n",
       "..    ...                   ...            ...            ...          ...   \n",
       "655  2018                sutton   379262.58333    28853.00000  32442.00000   \n",
       "656  2018         tower hamlets   446500.41667    49237.00000  69806.00000   \n",
       "657  2018        waltham forest   440859.41667    30298.00000  32875.00000   \n",
       "658  2018            wandsworth   596649.16667    34501.00000  45317.00000   \n",
       "659  2018           westminster  1020025.50000    43015.00000  63792.00000   \n",
       "\n",
       "     population_size  \n",
       "0         6581.00000  \n",
       "1       162444.00000  \n",
       "2       313469.00000  \n",
       "3       217458.00000  \n",
       "4       260317.00000  \n",
       "..               ...  \n",
       "655     204525.00000  \n",
       "656     317705.00000  \n",
       "657     276700.00000  \n",
       "658     326474.00000  \n",
       "659     255324.00000  \n",
       "\n",
       "[645 rows x 6 columns]"
      ]
     },
     "execution_count": 9,
     "metadata": {},
     "output_type": "execute_result"
    }
   ],
   "source": [
    "df = df.dropna()\n",
    "df"
   ]
  },
  {
   "cell_type": "markdown",
   "metadata": {},
   "source": [
    "### Decision Tree"
   ]
  },
  {
   "cell_type": "code",
   "execution_count": 10,
   "metadata": {},
   "outputs": [],
   "source": [
    "# making copies\n",
    "dfa = df.copy()\n",
    "dfb = df.copy()\n",
    "dfc = df.copy()"
   ]
  },
  {
   "cell_type": "markdown",
   "metadata": {},
   "source": [
    "##### Decision Tree with 2 Features\n",
    "\n",
    "`Median_Salary`, `Population_size` - max_depth = 4, accuracy = 95.35% \n",
    "\n",
    "The same features appear to be effective in building models for classification tasks but perform poorly in regression tasks (refer to Exercise 3 – Part 3.1 Linear Regression). This could suggest that non-linear models (e.g., decision trees) are able to handle much more complex relationships between features and a categorical target.\n",
    "\n",
    "While the high accuracy % suggests the model performs well on the test dataset, the precision, recall, and f1-score all suggest that the model has difficulty in correctly classifying most of class 1 (expensive areas). This might be resulted from the imbalanced class – as the most of areas are labelled as normal areas. "
   ]
  },
  {
   "cell_type": "code",
   "execution_count": 11,
   "metadata": {},
   "outputs": [
    {
     "data": {
      "text/html": [
       "<div>\n",
       "<style scoped>\n",
       "    .dataframe tbody tr th:only-of-type {\n",
       "        vertical-align: middle;\n",
       "    }\n",
       "\n",
       "    .dataframe tbody tr th {\n",
       "        vertical-align: top;\n",
       "    }\n",
       "\n",
       "    .dataframe thead th {\n",
       "        text-align: right;\n",
       "    }\n",
       "</style>\n",
       "<table border=\"1\" class=\"dataframe\">\n",
       "  <thead>\n",
       "    <tr style=\"text-align: right;\">\n",
       "      <th></th>\n",
       "      <th>date</th>\n",
       "      <th>area</th>\n",
       "      <th>average_price</th>\n",
       "      <th>median_salary</th>\n",
       "      <th>mean_salary</th>\n",
       "      <th>population_size</th>\n",
       "    </tr>\n",
       "  </thead>\n",
       "  <tbody>\n",
       "    <tr>\n",
       "      <th>0</th>\n",
       "      <td>1999</td>\n",
       "      <td>city of london</td>\n",
       "      <td>171300.08333</td>\n",
       "      <td>33020.00000</td>\n",
       "      <td>48922.00000</td>\n",
       "      <td>6581.00000</td>\n",
       "    </tr>\n",
       "    <tr>\n",
       "      <th>1</th>\n",
       "      <td>1999</td>\n",
       "      <td>barking and dagenham</td>\n",
       "      <td>65320.83333</td>\n",
       "      <td>21480.00000</td>\n",
       "      <td>23620.00000</td>\n",
       "      <td>162444.00000</td>\n",
       "    </tr>\n",
       "    <tr>\n",
       "      <th>2</th>\n",
       "      <td>1999</td>\n",
       "      <td>barnet</td>\n",
       "      <td>136004.41667</td>\n",
       "      <td>19568.00000</td>\n",
       "      <td>23128.00000</td>\n",
       "      <td>313469.00000</td>\n",
       "    </tr>\n",
       "    <tr>\n",
       "      <th>3</th>\n",
       "      <td>1999</td>\n",
       "      <td>bexley</td>\n",
       "      <td>86777.66667</td>\n",
       "      <td>18621.00000</td>\n",
       "      <td>21386.00000</td>\n",
       "      <td>217458.00000</td>\n",
       "    </tr>\n",
       "    <tr>\n",
       "      <th>4</th>\n",
       "      <td>1999</td>\n",
       "      <td>brent</td>\n",
       "      <td>112157.41667</td>\n",
       "      <td>18532.00000</td>\n",
       "      <td>20911.00000</td>\n",
       "      <td>260317.00000</td>\n",
       "    </tr>\n",
       "    <tr>\n",
       "      <th>...</th>\n",
       "      <td>...</td>\n",
       "      <td>...</td>\n",
       "      <td>...</td>\n",
       "      <td>...</td>\n",
       "      <td>...</td>\n",
       "      <td>...</td>\n",
       "    </tr>\n",
       "    <tr>\n",
       "      <th>655</th>\n",
       "      <td>2018</td>\n",
       "      <td>sutton</td>\n",
       "      <td>379262.58333</td>\n",
       "      <td>28853.00000</td>\n",
       "      <td>32442.00000</td>\n",
       "      <td>204525.00000</td>\n",
       "    </tr>\n",
       "    <tr>\n",
       "      <th>656</th>\n",
       "      <td>2018</td>\n",
       "      <td>tower hamlets</td>\n",
       "      <td>446500.41667</td>\n",
       "      <td>49237.00000</td>\n",
       "      <td>69806.00000</td>\n",
       "      <td>317705.00000</td>\n",
       "    </tr>\n",
       "    <tr>\n",
       "      <th>657</th>\n",
       "      <td>2018</td>\n",
       "      <td>waltham forest</td>\n",
       "      <td>440859.41667</td>\n",
       "      <td>30298.00000</td>\n",
       "      <td>32875.00000</td>\n",
       "      <td>276700.00000</td>\n",
       "    </tr>\n",
       "    <tr>\n",
       "      <th>658</th>\n",
       "      <td>2018</td>\n",
       "      <td>wandsworth</td>\n",
       "      <td>596649.16667</td>\n",
       "      <td>34501.00000</td>\n",
       "      <td>45317.00000</td>\n",
       "      <td>326474.00000</td>\n",
       "    </tr>\n",
       "    <tr>\n",
       "      <th>659</th>\n",
       "      <td>2018</td>\n",
       "      <td>westminster</td>\n",
       "      <td>1020025.50000</td>\n",
       "      <td>43015.00000</td>\n",
       "      <td>63792.00000</td>\n",
       "      <td>255324.00000</td>\n",
       "    </tr>\n",
       "  </tbody>\n",
       "</table>\n",
       "<p>645 rows × 6 columns</p>\n",
       "</div>"
      ],
      "text/plain": [
       "     date                  area  average_price  median_salary  mean_salary  \\\n",
       "0    1999        city of london   171300.08333    33020.00000  48922.00000   \n",
       "1    1999  barking and dagenham    65320.83333    21480.00000  23620.00000   \n",
       "2    1999                barnet   136004.41667    19568.00000  23128.00000   \n",
       "3    1999                bexley    86777.66667    18621.00000  21386.00000   \n",
       "4    1999                 brent   112157.41667    18532.00000  20911.00000   \n",
       "..    ...                   ...            ...            ...          ...   \n",
       "655  2018                sutton   379262.58333    28853.00000  32442.00000   \n",
       "656  2018         tower hamlets   446500.41667    49237.00000  69806.00000   \n",
       "657  2018        waltham forest   440859.41667    30298.00000  32875.00000   \n",
       "658  2018            wandsworth   596649.16667    34501.00000  45317.00000   \n",
       "659  2018           westminster  1020025.50000    43015.00000  63792.00000   \n",
       "\n",
       "     population_size  \n",
       "0         6581.00000  \n",
       "1       162444.00000  \n",
       "2       313469.00000  \n",
       "3       217458.00000  \n",
       "4       260317.00000  \n",
       "..               ...  \n",
       "655     204525.00000  \n",
       "656     317705.00000  \n",
       "657     276700.00000  \n",
       "658     326474.00000  \n",
       "659     255324.00000  \n",
       "\n",
       "[645 rows x 6 columns]"
      ]
     },
     "execution_count": 11,
     "metadata": {},
     "output_type": "execute_result"
    }
   ],
   "source": [
    "dfa"
   ]
  },
  {
   "cell_type": "code",
   "execution_count": 12,
   "metadata": {},
   "outputs": [
    {
     "data": {
      "text/html": [
       "<div>\n",
       "<style scoped>\n",
       "    .dataframe tbody tr th:only-of-type {\n",
       "        vertical-align: middle;\n",
       "    }\n",
       "\n",
       "    .dataframe tbody tr th {\n",
       "        vertical-align: top;\n",
       "    }\n",
       "\n",
       "    .dataframe thead th {\n",
       "        text-align: right;\n",
       "    }\n",
       "</style>\n",
       "<table border=\"1\" class=\"dataframe\">\n",
       "  <thead>\n",
       "    <tr style=\"text-align: right;\">\n",
       "      <th></th>\n",
       "      <th>date</th>\n",
       "      <th>average_price</th>\n",
       "      <th>median_salary</th>\n",
       "      <th>mean_salary</th>\n",
       "      <th>population_size</th>\n",
       "      <th>types</th>\n",
       "    </tr>\n",
       "  </thead>\n",
       "  <tbody>\n",
       "    <tr>\n",
       "      <th>0</th>\n",
       "      <td>1999</td>\n",
       "      <td>171300.08333</td>\n",
       "      <td>33020.00000</td>\n",
       "      <td>48922.00000</td>\n",
       "      <td>6581.00000</td>\n",
       "      <td>0.00000</td>\n",
       "    </tr>\n",
       "    <tr>\n",
       "      <th>1</th>\n",
       "      <td>1999</td>\n",
       "      <td>65320.83333</td>\n",
       "      <td>21480.00000</td>\n",
       "      <td>23620.00000</td>\n",
       "      <td>162444.00000</td>\n",
       "      <td>0.00000</td>\n",
       "    </tr>\n",
       "    <tr>\n",
       "      <th>2</th>\n",
       "      <td>1999</td>\n",
       "      <td>136004.41667</td>\n",
       "      <td>19568.00000</td>\n",
       "      <td>23128.00000</td>\n",
       "      <td>313469.00000</td>\n",
       "      <td>0.00000</td>\n",
       "    </tr>\n",
       "    <tr>\n",
       "      <th>3</th>\n",
       "      <td>1999</td>\n",
       "      <td>86777.66667</td>\n",
       "      <td>18621.00000</td>\n",
       "      <td>21386.00000</td>\n",
       "      <td>217458.00000</td>\n",
       "      <td>0.00000</td>\n",
       "    </tr>\n",
       "    <tr>\n",
       "      <th>4</th>\n",
       "      <td>1999</td>\n",
       "      <td>112157.41667</td>\n",
       "      <td>18532.00000</td>\n",
       "      <td>20911.00000</td>\n",
       "      <td>260317.00000</td>\n",
       "      <td>0.00000</td>\n",
       "    </tr>\n",
       "    <tr>\n",
       "      <th>...</th>\n",
       "      <td>...</td>\n",
       "      <td>...</td>\n",
       "      <td>...</td>\n",
       "      <td>...</td>\n",
       "      <td>...</td>\n",
       "      <td>...</td>\n",
       "    </tr>\n",
       "    <tr>\n",
       "      <th>655</th>\n",
       "      <td>2018</td>\n",
       "      <td>379262.58333</td>\n",
       "      <td>28853.00000</td>\n",
       "      <td>32442.00000</td>\n",
       "      <td>204525.00000</td>\n",
       "      <td>0.00000</td>\n",
       "    </tr>\n",
       "    <tr>\n",
       "      <th>656</th>\n",
       "      <td>2018</td>\n",
       "      <td>446500.41667</td>\n",
       "      <td>49237.00000</td>\n",
       "      <td>69806.00000</td>\n",
       "      <td>317705.00000</td>\n",
       "      <td>0.00000</td>\n",
       "    </tr>\n",
       "    <tr>\n",
       "      <th>657</th>\n",
       "      <td>2018</td>\n",
       "      <td>440859.41667</td>\n",
       "      <td>30298.00000</td>\n",
       "      <td>32875.00000</td>\n",
       "      <td>276700.00000</td>\n",
       "      <td>0.00000</td>\n",
       "    </tr>\n",
       "    <tr>\n",
       "      <th>658</th>\n",
       "      <td>2018</td>\n",
       "      <td>596649.16667</td>\n",
       "      <td>34501.00000</td>\n",
       "      <td>45317.00000</td>\n",
       "      <td>326474.00000</td>\n",
       "      <td>0.00000</td>\n",
       "    </tr>\n",
       "    <tr>\n",
       "      <th>659</th>\n",
       "      <td>2018</td>\n",
       "      <td>1020025.50000</td>\n",
       "      <td>43015.00000</td>\n",
       "      <td>63792.00000</td>\n",
       "      <td>255324.00000</td>\n",
       "      <td>1.00000</td>\n",
       "    </tr>\n",
       "  </tbody>\n",
       "</table>\n",
       "<p>645 rows × 6 columns</p>\n",
       "</div>"
      ],
      "text/plain": [
       "     date  average_price  median_salary  mean_salary  population_size   types\n",
       "0    1999   171300.08333    33020.00000  48922.00000       6581.00000 0.00000\n",
       "1    1999    65320.83333    21480.00000  23620.00000     162444.00000 0.00000\n",
       "2    1999   136004.41667    19568.00000  23128.00000     313469.00000 0.00000\n",
       "3    1999    86777.66667    18621.00000  21386.00000     217458.00000 0.00000\n",
       "4    1999   112157.41667    18532.00000  20911.00000     260317.00000 0.00000\n",
       "..    ...            ...            ...          ...              ...     ...\n",
       "655  2018   379262.58333    28853.00000  32442.00000     204525.00000 0.00000\n",
       "656  2018   446500.41667    49237.00000  69806.00000     317705.00000 0.00000\n",
       "657  2018   440859.41667    30298.00000  32875.00000     276700.00000 0.00000\n",
       "658  2018   596649.16667    34501.00000  45317.00000     326474.00000 0.00000\n",
       "659  2018  1020025.50000    43015.00000  63792.00000     255324.00000 1.00000\n",
       "\n",
       "[645 rows x 6 columns]"
      ]
     },
     "execution_count": 12,
     "metadata": {},
     "output_type": "execute_result"
    }
   ],
   "source": [
    "# labelling method 1 - imbalance labelling\n",
    "# define expensive and normal areas \n",
    "# reference code: https://stackoverflow.com/questions/60481193/how-to-select-rows-in-a-dataframe-based-on-an-or-operator-of-values-of-a-colum\n",
    "# reference code: https://stackoverflow.com/questions/39078781/filter-a-pandas-data-frame-on-all-rows-that-do-not-meet-a-condition\n",
    "expensive_conditions = (dfa[\"area\"] == \"kensington and chelsea\") | (dfa[\"area\"] == \"westminster\")\n",
    "normal_conditions = ~expensive_conditions\n",
    "\n",
    "# create a new column to store labels \n",
    "dfa.loc[expensive_conditions, 'type'] = 'expensive_areas'\n",
    "dfa.loc[normal_conditions, 'type'] = 'normal_areas'\n",
    "\n",
    "# encoding on new columns based on type\n",
    "dfa.loc[(dfa[\"type\"]==\"normal_areas\"), 'types'] = 0 \n",
    "dfa.loc[(dfa[\"type\"]==\"expensive_areas\"), 'types'] = 1\n",
    "\n",
    "dfa.drop([\"area\", \"type\"], axis=1, inplace=True)\n",
    "dfa"
   ]
  },
  {
   "cell_type": "code",
   "execution_count": 13,
   "metadata": {},
   "outputs": [],
   "source": [
    "# pick two features\n",
    "feature1 = \"median_salary\"\n",
    "feature2 = \"population_size\"\n",
    "\n",
    "#pick max_depth\n",
    "max_depth = 4"
   ]
  },
  {
   "cell_type": "code",
   "execution_count": 14,
   "metadata": {},
   "outputs": [
    {
     "name": "stdout",
     "output_type": "stream",
     "text": [
      "Accuracy: 95.34883720930233\n",
      "Confusion Matrix: [[120   2]\n",
      " [  4   3]]\n",
      "Class Report:               precision    recall  f1-score   support\n",
      "\n",
      "         0.0       0.97      0.98      0.98       122\n",
      "         1.0       0.60      0.43      0.50         7\n",
      "\n",
      "    accuracy                           0.95       129\n",
      "   macro avg       0.78      0.71      0.74       129\n",
      "weighted avg       0.95      0.95      0.95       129\n",
      "\n"
     ]
    },
    {
     "data": {
      "image/png": "[encoded data removed]",
      "text/plain": [
       "<Figure size 1080x576 with 1 Axes>"
      ]
     },
     "metadata": {
      "needs_background": "light"
     },
     "output_type": "display_data"
    }
   ],
   "source": [
    "# code inherited from lecture notebook\n",
    "# train model, plot decision boundary \n",
    "x = dfa[[feature1, feature2]].values\n",
    "y = pd.to_numeric(dfa[\"types\"])\n",
    "x_train, x_test, y_train, y_test = train_test_split(x,y, test_size=0.2, random_state=42)\n",
    "model = DecisionTreeClassifier(max_depth=max_depth)\n",
    "model.fit(x_train,y_train)\n",
    "\n",
    "# see if the model works\n",
    "y_pred = model.predict(x_test)\n",
    "num_incorrect = (y_test != y_pred).sum()\n",
    "total = y_test.shape[0]\n",
    "\n",
    "# more metrics found in: https://scikit-learn.org/stable/modules/model_evaluation.html\n",
    "acc = (total - num_incorrect) / total * 100\n",
    "conf = confusion_matrix(y_test, y_pred)\n",
    "classi = classification_report(y_test, y_pred)\n",
    "print(\"Accuracy:\", acc)\n",
    "print(\"Confusion Matrix:\", conf)\n",
    "print(\"Class Report:\", classi)\n",
    "\n",
    "plt.figure(figsize=(15,8))\n",
    "my_tree = plot_tree(model, feature_names=[feature1, feature2],fontsize=11, class_names = [\"normal_areas\", \"expensive_areas\"]) "
   ]
  },
  {
   "cell_type": "code",
   "execution_count": 15,
   "metadata": {},
   "outputs": [],
   "source": [
    "# https://hackernoon.com/how-to-plot-a-decision-boundary-for-machine-learning-algorithms-in-python-3o1n3w07\n",
    "# plot decision boundarys\n",
    "def plot_decision(X,y,model,n_classes=2):\n",
    "    min1, max1 = X[:, 0].min()-1, X[:, 0].max()+1\n",
    "    min2, max2 = X[:, 1].min()-1, X[:, 1].max()+1\n",
    "    x1grid = np.arange(min1, max1, 100) # need to change the size of step based on the dataset, or it will crash the kernel if data is too big...\n",
    "    x2grid = np.arange(min2, max2, 100)\n",
    "    xx, yy = np.meshgrid(x1grid, x2grid)\n",
    "    r1, r2 = xx.flatten(), yy.flatten()\n",
    "    r1, r2 = r1.reshape((len(r1), 1)), r2.reshape((len(r2), 1))\n",
    "    grid = np.hstack((r1,r2))\n",
    "    model.fit(X, y)\n",
    "    yhat = model.predict(grid)\n",
    "    zz = yhat.reshape(xx.shape)\n",
    "    plt.contourf(xx, yy, zz, cmap='binary_r')\n",
    "    for class_value in range(n_classes):\n",
    "        row_ix = np.where(y == class_value)\n",
    "        plt.scatter(X[row_ix, 0], X[row_ix, 1], cmap='binary_r')"
   ]
  },
  {
   "cell_type": "code",
   "execution_count": 16,
   "metadata": {},
   "outputs": [
    {
     "name": "stderr",
     "output_type": "stream",
     "text": [
      "<ipython-input-15-acc02c7267e5>:18: UserWarning: No data for colormapping provided via 'c'. Parameters 'cmap' will be ignored\n",
      "  plt.scatter(X[row_ix, 0], X[row_ix, 1], cmap='binary_r')\n"
     ]
    },
    {
     "data": {
      "image/png": "[encoded data removed]",
      "text/plain": [
       "<Figure size 864x576 with 1 Axes>"
      ]
     },
     "metadata": {
      "needs_background": "light"
     },
     "output_type": "display_data"
    }
   ],
   "source": [
    "plt.figure(figsize=(12,8))\n",
    "\n",
    "# set bounds to min and max values of features \n",
    "plt.xlim([np.min(x[:,0]),np.max(x[:,0])])\n",
    "plt.ylim([np.min(x[:,1]),np.max(x[:,1])])\n",
    "plot_decision(x, y, model, 2)"
   ]
  },
  {
   "cell_type": "markdown",
   "metadata": {},
   "source": [
    "##### Decision Tree with all Features\n",
    "\n",
    "max depth = 4, accuracy = 98.45%, better than 2 features model\n",
    "\n",
    "However, similar to the previous model, the performance metrics for class 1 (expensive areas) are not as good as those for class (normal areas), suggesting an imbalance class.\n",
    "\n",
    "- 'average_price' is the most significant predictor, with an importance score of approximately 0.48247.  \n",
    "- 'mean_salary' and 'median_salary' only have an importance score of around 0.05 - not much predictive power?"
   ]
  },
  {
   "cell_type": "code",
   "execution_count": 17,
   "metadata": {},
   "outputs": [],
   "source": [
    "# now pick all features for input\n",
    "x_labels = list(dfa.columns.values)\n",
    "x_labels.remove(\"types\")\n",
    "x = dfa.iloc[:, :-1]  # features: all columns except the last one\n",
    "y = dfa.iloc[:, -1]   # target: the last column"
   ]
  },
  {
   "cell_type": "code",
   "execution_count": 18,
   "metadata": {},
   "outputs": [
    {
     "name": "stdout",
     "output_type": "stream",
     "text": [
      "Accuracy: 98.44961240310077\n",
      "Confusion Matrix: [[122   1]\n",
      " [  1   5]]\n",
      "Class Report:               precision    recall  f1-score   support\n",
      "\n",
      "         0.0       0.99      0.99      0.99       123\n",
      "         1.0       0.83      0.83      0.83         6\n",
      "\n",
      "    accuracy                           0.98       129\n",
      "   macro avg       0.91      0.91      0.91       129\n",
      "weighted avg       0.98      0.98      0.98       129\n",
      "\n"
     ]
    },
    {
     "data": {
      "image/png": "[encoded data removed]",
      "text/plain": [
       "<Figure size 1080x576 with 1 Axes>"
      ]
     },
     "metadata": {
      "needs_background": "light"
     },
     "output_type": "display_data"
    }
   ],
   "source": [
    "# fit model\n",
    "x_train, x_test, y_train, y_test = train_test_split(x, y, test_size=0.2, random_state=0)\n",
    "model = DecisionTreeClassifier(max_depth=max_depth)\n",
    "model.fit(x_train,y_train)\n",
    "\n",
    "# see if the model works\n",
    "y_pred = model.predict(x_test)\n",
    "num_incorrect = (y_test != y_pred).sum()\n",
    "total = y_test.shape[0]\n",
    "acc = (total - num_incorrect) / total * 100\n",
    "conf = confusion_matrix(y_test, y_pred)\n",
    "classi = classification_report(y_test, y_pred)\n",
    "\n",
    "print(\"Accuracy:\", acc)\n",
    "print(\"Confusion Matrix:\", conf)\n",
    "print(\"Class Report:\", classi)\n",
    "\n",
    "plt.figure(figsize=(15,8))\n",
    "my_plot = plot_tree(model, feature_names=x_labels,fontsize=11, class_names = [\"normal_areas\", \"expensive_areas\"]) "
   ]
  },
  {
   "cell_type": "code",
   "execution_count": 19,
   "metadata": {},
   "outputs": [
    {
     "data": {
      "text/plain": [
       "average_price     0.48247\n",
       "date              0.28987\n",
       "population_size   0.13228\n",
       "median_salary     0.07126\n",
       "mean_salary       0.02412\n",
       "dtype: float64"
      ]
     },
     "execution_count": 19,
     "metadata": {},
     "output_type": "execute_result"
    }
   ],
   "source": [
    "# get feature importances\n",
    "feature_importances = model.feature_importances_\n",
    "importances = pd.Series(feature_importances, index=x_labels)\n",
    "sorted_importances = importances.sort_values(ascending=False)\n",
    "sorted_importances"
   ]
  },
  {
   "cell_type": "markdown",
   "metadata": {},
   "source": [
    "the above result shows that the model has some quite promising results in terms of accuracy, however, looking at the accuracy alone might be problematic, as the labelling method used here resulted in a very imbalance dataset\n",
    "- the model is very effective at identifying class 0 (normal areas) \n",
    "- but struggles more with class 1 (expensive areas)"
   ]
  },
  {
   "cell_type": "markdown",
   "metadata": {},
   "source": [
    "#### so how it works if using different labels?\n",
    "\n",
    "- Metropolitan borough\n",
    "- Municipal borough\n",
    "- County borough\n",
    "- Urban district\n",
    "\n",
    "or, \n",
    "- Inner borough\n",
    "- Outer borough\n",
    "\n",
    "labels found on https://en.wikipedia.org/wiki/London_boroughs\n",
    "\n",
    "With new labelling method, the accuracy has significantly dropped.\n",
    "\n",
    "However, since the first labelling method led to a highly imbalanced dataset, which might skew the results. The second attempt adjusted the labeling which reduced the class imbalance, resulting in more balanced evaluation metrics."
   ]
  },
  {
   "cell_type": "code",
   "execution_count": 20,
   "metadata": {},
   "outputs": [],
   "source": [
    "# 80% training data and 20% testing data\n",
    "# training set (X_train, y_train)\n",
    "# test set (X_test, y_test)\n",
    "# X_train, X_test, y_train, y_test = train_test_split(X, y, test_size=0.2, random_state=42)"
   ]
  },
  {
   "cell_type": "code",
   "execution_count": 21,
   "metadata": {},
   "outputs": [
    {
     "data": {
      "text/html": [
       "<div>\n",
       "<style scoped>\n",
       "    .dataframe tbody tr th:only-of-type {\n",
       "        vertical-align: middle;\n",
       "    }\n",
       "\n",
       "    .dataframe tbody tr th {\n",
       "        vertical-align: top;\n",
       "    }\n",
       "\n",
       "    .dataframe thead th {\n",
       "        text-align: right;\n",
       "    }\n",
       "</style>\n",
       "<table border=\"1\" class=\"dataframe\">\n",
       "  <thead>\n",
       "    <tr style=\"text-align: right;\">\n",
       "      <th></th>\n",
       "      <th>date</th>\n",
       "      <th>area</th>\n",
       "      <th>average_price</th>\n",
       "      <th>median_salary</th>\n",
       "      <th>mean_salary</th>\n",
       "      <th>population_size</th>\n",
       "    </tr>\n",
       "  </thead>\n",
       "  <tbody>\n",
       "    <tr>\n",
       "      <th>0</th>\n",
       "      <td>1999</td>\n",
       "      <td>city of london</td>\n",
       "      <td>171300.08333</td>\n",
       "      <td>33020.00000</td>\n",
       "      <td>48922.00000</td>\n",
       "      <td>6581.00000</td>\n",
       "    </tr>\n",
       "    <tr>\n",
       "      <th>1</th>\n",
       "      <td>1999</td>\n",
       "      <td>barking and dagenham</td>\n",
       "      <td>65320.83333</td>\n",
       "      <td>21480.00000</td>\n",
       "      <td>23620.00000</td>\n",
       "      <td>162444.00000</td>\n",
       "    </tr>\n",
       "    <tr>\n",
       "      <th>2</th>\n",
       "      <td>1999</td>\n",
       "      <td>barnet</td>\n",
       "      <td>136004.41667</td>\n",
       "      <td>19568.00000</td>\n",
       "      <td>23128.00000</td>\n",
       "      <td>313469.00000</td>\n",
       "    </tr>\n",
       "    <tr>\n",
       "      <th>3</th>\n",
       "      <td>1999</td>\n",
       "      <td>bexley</td>\n",
       "      <td>86777.66667</td>\n",
       "      <td>18621.00000</td>\n",
       "      <td>21386.00000</td>\n",
       "      <td>217458.00000</td>\n",
       "    </tr>\n",
       "    <tr>\n",
       "      <th>4</th>\n",
       "      <td>1999</td>\n",
       "      <td>brent</td>\n",
       "      <td>112157.41667</td>\n",
       "      <td>18532.00000</td>\n",
       "      <td>20911.00000</td>\n",
       "      <td>260317.00000</td>\n",
       "    </tr>\n",
       "    <tr>\n",
       "      <th>...</th>\n",
       "      <td>...</td>\n",
       "      <td>...</td>\n",
       "      <td>...</td>\n",
       "      <td>...</td>\n",
       "      <td>...</td>\n",
       "      <td>...</td>\n",
       "    </tr>\n",
       "    <tr>\n",
       "      <th>655</th>\n",
       "      <td>2018</td>\n",
       "      <td>sutton</td>\n",
       "      <td>379262.58333</td>\n",
       "      <td>28853.00000</td>\n",
       "      <td>32442.00000</td>\n",
       "      <td>204525.00000</td>\n",
       "    </tr>\n",
       "    <tr>\n",
       "      <th>656</th>\n",
       "      <td>2018</td>\n",
       "      <td>tower hamlets</td>\n",
       "      <td>446500.41667</td>\n",
       "      <td>49237.00000</td>\n",
       "      <td>69806.00000</td>\n",
       "      <td>317705.00000</td>\n",
       "    </tr>\n",
       "    <tr>\n",
       "      <th>657</th>\n",
       "      <td>2018</td>\n",
       "      <td>waltham forest</td>\n",
       "      <td>440859.41667</td>\n",
       "      <td>30298.00000</td>\n",
       "      <td>32875.00000</td>\n",
       "      <td>276700.00000</td>\n",
       "    </tr>\n",
       "    <tr>\n",
       "      <th>658</th>\n",
       "      <td>2018</td>\n",
       "      <td>wandsworth</td>\n",
       "      <td>596649.16667</td>\n",
       "      <td>34501.00000</td>\n",
       "      <td>45317.00000</td>\n",
       "      <td>326474.00000</td>\n",
       "    </tr>\n",
       "    <tr>\n",
       "      <th>659</th>\n",
       "      <td>2018</td>\n",
       "      <td>westminster</td>\n",
       "      <td>1020025.50000</td>\n",
       "      <td>43015.00000</td>\n",
       "      <td>63792.00000</td>\n",
       "      <td>255324.00000</td>\n",
       "    </tr>\n",
       "  </tbody>\n",
       "</table>\n",
       "<p>645 rows × 6 columns</p>\n",
       "</div>"
      ],
      "text/plain": [
       "     date                  area  average_price  median_salary  mean_salary  \\\n",
       "0    1999        city of london   171300.08333    33020.00000  48922.00000   \n",
       "1    1999  barking and dagenham    65320.83333    21480.00000  23620.00000   \n",
       "2    1999                barnet   136004.41667    19568.00000  23128.00000   \n",
       "3    1999                bexley    86777.66667    18621.00000  21386.00000   \n",
       "4    1999                 brent   112157.41667    18532.00000  20911.00000   \n",
       "..    ...                   ...            ...            ...          ...   \n",
       "655  2018                sutton   379262.58333    28853.00000  32442.00000   \n",
       "656  2018         tower hamlets   446500.41667    49237.00000  69806.00000   \n",
       "657  2018        waltham forest   440859.41667    30298.00000  32875.00000   \n",
       "658  2018            wandsworth   596649.16667    34501.00000  45317.00000   \n",
       "659  2018           westminster  1020025.50000    43015.00000  63792.00000   \n",
       "\n",
       "     population_size  \n",
       "0         6581.00000  \n",
       "1       162444.00000  \n",
       "2       313469.00000  \n",
       "3       217458.00000  \n",
       "4       260317.00000  \n",
       "..               ...  \n",
       "655     204525.00000  \n",
       "656     317705.00000  \n",
       "657     276700.00000  \n",
       "658     326474.00000  \n",
       "659     255324.00000  \n",
       "\n",
       "[645 rows x 6 columns]"
      ]
     },
     "execution_count": 21,
     "metadata": {},
     "output_type": "execute_result"
    }
   ],
   "source": [
    "dfb"
   ]
  },
  {
   "cell_type": "code",
   "execution_count": 22,
   "metadata": {},
   "outputs": [
    {
     "data": {
      "text/html": [
       "<div>\n",
       "<style scoped>\n",
       "    .dataframe tbody tr th:only-of-type {\n",
       "        vertical-align: middle;\n",
       "    }\n",
       "\n",
       "    .dataframe tbody tr th {\n",
       "        vertical-align: top;\n",
       "    }\n",
       "\n",
       "    .dataframe thead th {\n",
       "        text-align: right;\n",
       "    }\n",
       "</style>\n",
       "<table border=\"1\" class=\"dataframe\">\n",
       "  <thead>\n",
       "    <tr style=\"text-align: right;\">\n",
       "      <th></th>\n",
       "      <th>date</th>\n",
       "      <th>average_price</th>\n",
       "      <th>median_salary</th>\n",
       "      <th>mean_salary</th>\n",
       "      <th>population_size</th>\n",
       "      <th>label</th>\n",
       "    </tr>\n",
       "  </thead>\n",
       "  <tbody>\n",
       "    <tr>\n",
       "      <th>0</th>\n",
       "      <td>1999</td>\n",
       "      <td>171300.08333</td>\n",
       "      <td>33020.00000</td>\n",
       "      <td>48922.00000</td>\n",
       "      <td>6581.00000</td>\n",
       "      <td>1.00000</td>\n",
       "    </tr>\n",
       "    <tr>\n",
       "      <th>1</th>\n",
       "      <td>1999</td>\n",
       "      <td>65320.83333</td>\n",
       "      <td>21480.00000</td>\n",
       "      <td>23620.00000</td>\n",
       "      <td>162444.00000</td>\n",
       "      <td>1.00000</td>\n",
       "    </tr>\n",
       "    <tr>\n",
       "      <th>2</th>\n",
       "      <td>1999</td>\n",
       "      <td>136004.41667</td>\n",
       "      <td>19568.00000</td>\n",
       "      <td>23128.00000</td>\n",
       "      <td>313469.00000</td>\n",
       "      <td>1.00000</td>\n",
       "    </tr>\n",
       "    <tr>\n",
       "      <th>3</th>\n",
       "      <td>1999</td>\n",
       "      <td>86777.66667</td>\n",
       "      <td>18621.00000</td>\n",
       "      <td>21386.00000</td>\n",
       "      <td>217458.00000</td>\n",
       "      <td>1.00000</td>\n",
       "    </tr>\n",
       "    <tr>\n",
       "      <th>4</th>\n",
       "      <td>1999</td>\n",
       "      <td>112157.41667</td>\n",
       "      <td>18532.00000</td>\n",
       "      <td>20911.00000</td>\n",
       "      <td>260317.00000</td>\n",
       "      <td>1.00000</td>\n",
       "    </tr>\n",
       "    <tr>\n",
       "      <th>...</th>\n",
       "      <td>...</td>\n",
       "      <td>...</td>\n",
       "      <td>...</td>\n",
       "      <td>...</td>\n",
       "      <td>...</td>\n",
       "      <td>...</td>\n",
       "    </tr>\n",
       "    <tr>\n",
       "      <th>655</th>\n",
       "      <td>2018</td>\n",
       "      <td>379262.58333</td>\n",
       "      <td>28853.00000</td>\n",
       "      <td>32442.00000</td>\n",
       "      <td>204525.00000</td>\n",
       "      <td>1.00000</td>\n",
       "    </tr>\n",
       "    <tr>\n",
       "      <th>656</th>\n",
       "      <td>2018</td>\n",
       "      <td>446500.41667</td>\n",
       "      <td>49237.00000</td>\n",
       "      <td>69806.00000</td>\n",
       "      <td>317705.00000</td>\n",
       "      <td>0.00000</td>\n",
       "    </tr>\n",
       "    <tr>\n",
       "      <th>657</th>\n",
       "      <td>2018</td>\n",
       "      <td>440859.41667</td>\n",
       "      <td>30298.00000</td>\n",
       "      <td>32875.00000</td>\n",
       "      <td>276700.00000</td>\n",
       "      <td>1.00000</td>\n",
       "    </tr>\n",
       "    <tr>\n",
       "      <th>658</th>\n",
       "      <td>2018</td>\n",
       "      <td>596649.16667</td>\n",
       "      <td>34501.00000</td>\n",
       "      <td>45317.00000</td>\n",
       "      <td>326474.00000</td>\n",
       "      <td>0.00000</td>\n",
       "    </tr>\n",
       "    <tr>\n",
       "      <th>659</th>\n",
       "      <td>2018</td>\n",
       "      <td>1020025.50000</td>\n",
       "      <td>43015.00000</td>\n",
       "      <td>63792.00000</td>\n",
       "      <td>255324.00000</td>\n",
       "      <td>0.00000</td>\n",
       "    </tr>\n",
       "  </tbody>\n",
       "</table>\n",
       "<p>645 rows × 6 columns</p>\n",
       "</div>"
      ],
      "text/plain": [
       "     date  average_price  median_salary  mean_salary  population_size   label\n",
       "0    1999   171300.08333    33020.00000  48922.00000       6581.00000 1.00000\n",
       "1    1999    65320.83333    21480.00000  23620.00000     162444.00000 1.00000\n",
       "2    1999   136004.41667    19568.00000  23128.00000     313469.00000 1.00000\n",
       "3    1999    86777.66667    18621.00000  21386.00000     217458.00000 1.00000\n",
       "4    1999   112157.41667    18532.00000  20911.00000     260317.00000 1.00000\n",
       "..    ...            ...            ...          ...              ...     ...\n",
       "655  2018   379262.58333    28853.00000  32442.00000     204525.00000 1.00000\n",
       "656  2018   446500.41667    49237.00000  69806.00000     317705.00000 0.00000\n",
       "657  2018   440859.41667    30298.00000  32875.00000     276700.00000 1.00000\n",
       "658  2018   596649.16667    34501.00000  45317.00000     326474.00000 0.00000\n",
       "659  2018  1020025.50000    43015.00000  63792.00000     255324.00000 0.00000\n",
       "\n",
       "[645 rows x 6 columns]"
      ]
     },
     "execution_count": 22,
     "metadata": {},
     "output_type": "execute_result"
    }
   ],
   "source": [
    "# labelling method 2 - improved imbalance, but not perfect\n",
    "# define the conditions for inner and outer areas\n",
    "innerboroughs = [\"camden\", \"greenwich\", \"hackney\", \"hammersmith and fulham\", \"islington\", \"kensington and chelsea\", \"lambeth\", \"lewisham\", \"southwark\", \"tower hamlets\", \"wandsworth\", \"westminster\"]\n",
    "\n",
    "# filter the data based on the above categories\n",
    "# reference code: https://www.geeksforgeeks.org/python-pandas-dataframe-isin/\n",
    "inner = dfb[\"area\"].isin(innerboroughs)\n",
    "outer = ~inner\n",
    "\n",
    "# create new column to store labels\n",
    "dfb.loc[inner, 'type'] = 'inner_boroguh'\n",
    "dfb.loc[outer, 'type'] = 'outer_boroguh'\n",
    "\n",
    "# encoding on new columns based on 'type' values\n",
    "dfb.loc[(dfb[\"type\"]==\"inner_boroguh\"), 'label'] = 0 \n",
    "dfb.loc[(dfb[\"type\"]==\"outer_boroguh\"), 'label'] = 1\n",
    "dfb.drop([\"area\", \"type\"], axis=1, inplace=True)\n",
    "dfb"
   ]
  },
  {
   "cell_type": "code",
   "execution_count": 23,
   "metadata": {},
   "outputs": [
    {
     "name": "stdout",
     "output_type": "stream",
     "text": [
      "Accuracy: 74.4186046511628\n",
      "Confusion Matrix: [[26 20]\n",
      " [13 70]]\n",
      "Class Report:               precision    recall  f1-score   support\n",
      "\n",
      "         0.0       0.67      0.57      0.61        46\n",
      "         1.0       0.78      0.84      0.81        83\n",
      "\n",
      "    accuracy                           0.74       129\n",
      "   macro avg       0.72      0.70      0.71       129\n",
      "weighted avg       0.74      0.74      0.74       129\n",
      "\n"
     ]
    },
    {
     "data": {
      "image/png": "[encoded data removed]",
      "text/plain": [
       "<Figure size 1080x576 with 1 Axes>"
      ]
     },
     "metadata": {
      "needs_background": "light"
     },
     "output_type": "display_data"
    }
   ],
   "source": [
    "# 2 features decision tree\n",
    "feature1 = \"median_salary\"\n",
    "feature2 = \"population_size\"\n",
    "\n",
    "#pick max_depth\n",
    "max_depth = 5\n",
    "\n",
    "# train model, plot decision boundary \n",
    "x = dfb[[feature1, feature2]].values\n",
    "y = pd.to_numeric(dfb[\"label\"])\n",
    "x_train, x_test, y_train, y_test = train_test_split(x, y, test_size=0.2, random_state=42)\n",
    "model = DecisionTreeClassifier(max_depth=max_depth)\n",
    "model.fit(x_train,y_train)\n",
    "\n",
    "# see if the model works\n",
    "y_pred = model.predict(x_test)\n",
    "num_incorrect = (y_test != y_pred).sum()\n",
    "total = y_test.shape[0]\n",
    "\n",
    "acc = (total - num_incorrect) / total * 100\n",
    "conf = confusion_matrix(y_test, y_pred)\n",
    "classi = classification_report(y_test, y_pred)\n",
    "\n",
    "print(\"Accuracy:\", acc)\n",
    "print(\"Confusion Matrix:\", conf)\n",
    "print(\"Class Report:\", classi)\n",
    "\n",
    "plt.figure(figsize=(15,8))\n",
    "my_tree = plot_tree(model, feature_names=[feature1, feature2], fontsize=11, class_names = [\"inner_borough\", \"outer_borough\"]) "
   ]
  },
  {
   "cell_type": "code",
   "execution_count": 24,
   "metadata": {},
   "outputs": [
    {
     "name": "stderr",
     "output_type": "stream",
     "text": [
      "<ipython-input-15-acc02c7267e5>:18: UserWarning: No data for colormapping provided via 'c'. Parameters 'cmap' will be ignored\n",
      "  plt.scatter(X[row_ix, 0], X[row_ix, 1], cmap='binary_r')\n"
     ]
    },
    {
     "data": {
      "image/png": "[encoded data removed]",
      "text/plain": [
       "<Figure size 864x576 with 1 Axes>"
      ]
     },
     "metadata": {
      "needs_background": "light"
     },
     "output_type": "display_data"
    }
   ],
   "source": [
    "plt.figure(figsize=(12,8))\n",
    "\n",
    "# set bounds to min and max values of features \n",
    "plt.xlim([np.min(x[:,0]),np.max(x[:,0])])\n",
    "plt.ylim([np.min(x[:,1]),np.max(x[:,1])])\n",
    "plot_decision(x, y, model, 2)"
   ]
  },
  {
   "cell_type": "markdown",
   "metadata": {},
   "source": [
    "the graph here looks a lot better compared to what we got by using a very imbalance dataset"
   ]
  },
  {
   "cell_type": "code",
   "execution_count": 25,
   "metadata": {},
   "outputs": [],
   "source": [
    "# multiple features decision tree\n",
    "# pick all features for input\n",
    "x_labels = list(dfb.columns.values)\n",
    "x_labels.remove(\"label\")\n",
    "x = dfb.iloc[:, :-1]  # features: all columns except the last one\n",
    "y = dfb.iloc[:, -1]   # target: the last column"
   ]
  },
  {
   "cell_type": "code",
   "execution_count": 26,
   "metadata": {},
   "outputs": [],
   "source": [
    "#pick max_depth\n",
    "max_depth = 5"
   ]
  },
  {
   "cell_type": "code",
   "execution_count": 27,
   "metadata": {},
   "outputs": [
    {
     "name": "stdout",
     "output_type": "stream",
     "text": [
      "Accuracy: 79.84496124031007\n",
      "Confusion Matrix: [[24 21]\n",
      " [ 5 79]]\n",
      "Class Report:               precision    recall  f1-score   support\n",
      "\n",
      "         0.0       0.83      0.53      0.65        45\n",
      "         1.0       0.79      0.94      0.86        84\n",
      "\n",
      "    accuracy                           0.80       129\n",
      "   macro avg       0.81      0.74      0.75       129\n",
      "weighted avg       0.80      0.80      0.79       129\n",
      "\n"
     ]
    },
    {
     "data": {
      "image/png": "[encoded data removed]",
      "text/plain": [
       "<Figure size 1080x576 with 1 Axes>"
      ]
     },
     "metadata": {
      "needs_background": "light"
     },
     "output_type": "display_data"
    }
   ],
   "source": [
    "# fit model\n",
    "x_train, x_test, y_train, y_test = train_test_split(x, y, test_size=0.2, random_state=0)\n",
    "model = DecisionTreeClassifier(max_depth=max_depth)\n",
    "model.fit(x_train,y_train)\n",
    "\n",
    "# see if the model works\n",
    "y_pred = model.predict(x_test)\n",
    "num_incorrect = (y_test != y_pred).sum()\n",
    "total = y_test.shape[0]\n",
    "acc = (total - num_incorrect) / total * 100\n",
    "conf = confusion_matrix(y_test, y_pred)\n",
    "classi = classification_report(y_test, y_pred)\n",
    "\n",
    "print(\"Accuracy:\", acc)\n",
    "print(\"Confusion Matrix:\", conf)\n",
    "print(\"Class Report:\", classi)\n",
    "\n",
    "plt.figure(figsize=(15,8))\n",
    "my_plot = plot_tree(model, feature_names=x_labels,fontsize=11, class_names = [\"inner_borough\", \"outer_borough\"]) "
   ]
  },
  {
   "cell_type": "code",
   "execution_count": 28,
   "metadata": {},
   "outputs": [
    {
     "data": {
      "text/plain": [
       "mean_salary       0.46316\n",
       "population_size   0.29155\n",
       "date              0.10962\n",
       "average_price     0.09358\n",
       "median_salary     0.04208\n",
       "dtype: float64"
      ]
     },
     "execution_count": 28,
     "metadata": {},
     "output_type": "execute_result"
    }
   ],
   "source": [
    "# get feature importances\n",
    "feature_importances = model.feature_importances_\n",
    "importances = pd.Series(feature_importances, index=x_labels)\n",
    "sorted_importances = importances.sort_values(ascending=False)\n",
    "sorted_importances"
   ]
  },
  {
   "cell_type": "code",
   "execution_count": 29,
   "metadata": {},
   "outputs": [
    {
     "name": "stdout",
     "output_type": "stream",
     "text": [
      "OOB accuracy 0.8635658914728682\n"
     ]
    }
   ],
   "source": [
    "# fit the random forest model\n",
    "model = RandomForestClassifier(oob_score=True, random_state=42, n_estimators=500, n_jobs=-1)\n",
    "model.fit(x, y)\n",
    "print(\"OOB accuracy\", model.oob_score_)"
   ]
  },
  {
   "cell_type": "code",
   "execution_count": 30,
   "metadata": {},
   "outputs": [
    {
     "name": "stdout",
     "output_type": "stream",
     "text": [
      "accuracy 0.8294573643410853\n"
     ]
    }
   ],
   "source": [
    "# fit the adaboost model\n",
    "x_train, x_test, y_train, y_test = train_test_split(x, y, test_size=0.2, random_state=42)\n",
    "model = AdaBoostClassifier(n_estimators=500, random_state=42)\n",
    "model.fit(x_train, y_train)\n",
    "y_pred = model.predict(x_test)\n",
    "accuracy = accuracy_score(y_test, y_pred)\n",
    "print(\"accuracy\",accuracy)"
   ]
  },
  {
   "cell_type": "markdown",
   "metadata": {},
   "source": [
    "### Random Forest - Dataset I - Housing in London\n",
    "\n",
    "By selecting the two features with the highest importance scores from the previous decision tree (‘mean_salary’ and ‘population_size’) and fitting them to the Random Forest Model will give us a model accuracy of 0.423 accuracy. \n",
    "\n",
    "Adding in more features about date, median salary, average price significantly improves accuracy than using just 'mean_salary' and 'population_size' alone."
   ]
  },
  {
   "cell_type": "code",
   "execution_count": 31,
   "metadata": {},
   "outputs": [
    {
     "data": {
      "text/html": [
       "<div>\n",
       "<style scoped>\n",
       "    .dataframe tbody tr th:only-of-type {\n",
       "        vertical-align: middle;\n",
       "    }\n",
       "\n",
       "    .dataframe tbody tr th {\n",
       "        vertical-align: top;\n",
       "    }\n",
       "\n",
       "    .dataframe thead th {\n",
       "        text-align: right;\n",
       "    }\n",
       "</style>\n",
       "<table border=\"1\" class=\"dataframe\">\n",
       "  <thead>\n",
       "    <tr style=\"text-align: right;\">\n",
       "      <th></th>\n",
       "      <th>date</th>\n",
       "      <th>area</th>\n",
       "      <th>average_price</th>\n",
       "      <th>median_salary</th>\n",
       "      <th>mean_salary</th>\n",
       "      <th>population_size</th>\n",
       "    </tr>\n",
       "  </thead>\n",
       "  <tbody>\n",
       "    <tr>\n",
       "      <th>0</th>\n",
       "      <td>1999</td>\n",
       "      <td>city of london</td>\n",
       "      <td>171300.08333</td>\n",
       "      <td>33020.00000</td>\n",
       "      <td>48922.00000</td>\n",
       "      <td>6581.00000</td>\n",
       "    </tr>\n",
       "    <tr>\n",
       "      <th>1</th>\n",
       "      <td>1999</td>\n",
       "      <td>barking and dagenham</td>\n",
       "      <td>65320.83333</td>\n",
       "      <td>21480.00000</td>\n",
       "      <td>23620.00000</td>\n",
       "      <td>162444.00000</td>\n",
       "    </tr>\n",
       "    <tr>\n",
       "      <th>2</th>\n",
       "      <td>1999</td>\n",
       "      <td>barnet</td>\n",
       "      <td>136004.41667</td>\n",
       "      <td>19568.00000</td>\n",
       "      <td>23128.00000</td>\n",
       "      <td>313469.00000</td>\n",
       "    </tr>\n",
       "    <tr>\n",
       "      <th>3</th>\n",
       "      <td>1999</td>\n",
       "      <td>bexley</td>\n",
       "      <td>86777.66667</td>\n",
       "      <td>18621.00000</td>\n",
       "      <td>21386.00000</td>\n",
       "      <td>217458.00000</td>\n",
       "    </tr>\n",
       "    <tr>\n",
       "      <th>4</th>\n",
       "      <td>1999</td>\n",
       "      <td>brent</td>\n",
       "      <td>112157.41667</td>\n",
       "      <td>18532.00000</td>\n",
       "      <td>20911.00000</td>\n",
       "      <td>260317.00000</td>\n",
       "    </tr>\n",
       "    <tr>\n",
       "      <th>...</th>\n",
       "      <td>...</td>\n",
       "      <td>...</td>\n",
       "      <td>...</td>\n",
       "      <td>...</td>\n",
       "      <td>...</td>\n",
       "      <td>...</td>\n",
       "    </tr>\n",
       "    <tr>\n",
       "      <th>655</th>\n",
       "      <td>2018</td>\n",
       "      <td>sutton</td>\n",
       "      <td>379262.58333</td>\n",
       "      <td>28853.00000</td>\n",
       "      <td>32442.00000</td>\n",
       "      <td>204525.00000</td>\n",
       "    </tr>\n",
       "    <tr>\n",
       "      <th>656</th>\n",
       "      <td>2018</td>\n",
       "      <td>tower hamlets</td>\n",
       "      <td>446500.41667</td>\n",
       "      <td>49237.00000</td>\n",
       "      <td>69806.00000</td>\n",
       "      <td>317705.00000</td>\n",
       "    </tr>\n",
       "    <tr>\n",
       "      <th>657</th>\n",
       "      <td>2018</td>\n",
       "      <td>waltham forest</td>\n",
       "      <td>440859.41667</td>\n",
       "      <td>30298.00000</td>\n",
       "      <td>32875.00000</td>\n",
       "      <td>276700.00000</td>\n",
       "    </tr>\n",
       "    <tr>\n",
       "      <th>658</th>\n",
       "      <td>2018</td>\n",
       "      <td>wandsworth</td>\n",
       "      <td>596649.16667</td>\n",
       "      <td>34501.00000</td>\n",
       "      <td>45317.00000</td>\n",
       "      <td>326474.00000</td>\n",
       "    </tr>\n",
       "    <tr>\n",
       "      <th>659</th>\n",
       "      <td>2018</td>\n",
       "      <td>westminster</td>\n",
       "      <td>1020025.50000</td>\n",
       "      <td>43015.00000</td>\n",
       "      <td>63792.00000</td>\n",
       "      <td>255324.00000</td>\n",
       "    </tr>\n",
       "  </tbody>\n",
       "</table>\n",
       "<p>645 rows × 6 columns</p>\n",
       "</div>"
      ],
      "text/plain": [
       "     date                  area  average_price  median_salary  mean_salary  \\\n",
       "0    1999        city of london   171300.08333    33020.00000  48922.00000   \n",
       "1    1999  barking and dagenham    65320.83333    21480.00000  23620.00000   \n",
       "2    1999                barnet   136004.41667    19568.00000  23128.00000   \n",
       "3    1999                bexley    86777.66667    18621.00000  21386.00000   \n",
       "4    1999                 brent   112157.41667    18532.00000  20911.00000   \n",
       "..    ...                   ...            ...            ...          ...   \n",
       "655  2018                sutton   379262.58333    28853.00000  32442.00000   \n",
       "656  2018         tower hamlets   446500.41667    49237.00000  69806.00000   \n",
       "657  2018        waltham forest   440859.41667    30298.00000  32875.00000   \n",
       "658  2018            wandsworth   596649.16667    34501.00000  45317.00000   \n",
       "659  2018           westminster  1020025.50000    43015.00000  63792.00000   \n",
       "\n",
       "     population_size  \n",
       "0         6581.00000  \n",
       "1       162444.00000  \n",
       "2       313469.00000  \n",
       "3       217458.00000  \n",
       "4       260317.00000  \n",
       "..               ...  \n",
       "655     204525.00000  \n",
       "656     317705.00000  \n",
       "657     276700.00000  \n",
       "658     326474.00000  \n",
       "659     255324.00000  \n",
       "\n",
       "[645 rows x 6 columns]"
      ]
     },
     "execution_count": 31,
     "metadata": {},
     "output_type": "execute_result"
    }
   ],
   "source": [
    "dfc"
   ]
  },
  {
   "cell_type": "code",
   "execution_count": 32,
   "metadata": {},
   "outputs": [
    {
     "name": "stdout",
     "output_type": "stream",
     "text": [
      "[ 6  0  1  2  3  4  5  7  8  9 10 11 12 13 14 15 16 17 18 19 20 21 22 23\n",
      " 24 25 26 27 28 29 30 31 32  6  0  1  2  3  4  5  7  8  9 10 12 14 15 16\n",
      " 17 18 19 20 21 22 23 24 25 26 27 28 29 30 31 32  6  0  1  2  3  4  5  7\n",
      "  8  9 10 12 13 14 15 16 17 18 19 20 21 22 23 24 25 26 27 28 29 30 31 32\n",
      "  6  0  1  2  3  4  5  7  8  9 10 11 12 13 14 15 16 17 18 19 20 21 22 23\n",
      " 24 25 26 27 28 29 30 31 32  6  0  1  2  3  4  5  7  8  9 10 11 12 13 14\n",
      " 15 16 17 18 19 20 21 22 23 24 25 26 27 28 29 30 31 32  6  0  2  3  4  5\n",
      "  7  8  9 10 11 12 13 14 15 16 17 18 19 20 21 22 23 26 27 28 29 30 31 32\n",
      "  6  0  1  2  3  4  5  7  8  9 10 11 12 13 14 15 16 17 18 19 20 21 22 23\n",
      " 24 25 26 27 28 29 30 31 32  6  0  1  2  3  5  7  8  9 10 11 12 13 14 15\n",
      " 16 17 18 19 20 21 22 23 24 25 26 27 28 29 30 31 32  6  0  1  2  3  4  5\n",
      "  7  8  9 10 11 12 13 14 15 16 17 18 19 20 21 22 23 24 25 26 27 28 29 30\n",
      " 31 32  6  0  1  2  3  4  5  7  8  9 10 11 13 14 15 16 17 18 19 20 21 22\n",
      " 23 24 25 26 27 28 29 30 31 32  6  0  1  2  3  4  5  7  8  9 10 11 12 13\n",
      " 14 15 16 17 18 19 20 21 22 23 24 25 26 27 28 29 30 31 32  6  0  1  2  3\n",
      "  4  5  7  8  9 10 11 12 13 14 15 16 17 18 19 20 21 22 23 24 25 26 27 28\n",
      " 29 30 31 32  6  0  1  2  3  4  5  7  8  9 10 11 12 13 14 15 16 17 18 19\n",
      " 20 21 22 23 24 25 26 27 28 29 30 31 32  6  0  1  2  3  4  5  7  8  9 10\n",
      " 11 12 13 14 15 16 17 18 19 20 21 22 23 24 25 26 27 28 29 30 31 32  6  0\n",
      "  1  2  3  4  5  7  8  9 10 11 12 13 14 15 16 17 18 19 20 21 22 23 24 25\n",
      " 26 27 28 29 31 32  6  0  1  2  3  4  5  7  8  9 10 11 12 13 14 15 16 17\n",
      " 18 19 20 21 22 23 24 25 26 27 28 29 30 31 32  6  0  1  2  3  4  5  7  8\n",
      "  9 10 11 12 13 14 15 16 17 18 19 20 21 22 23 24 25 26 27 28 29 30 31 32\n",
      "  6  0  1  3  4  5  8  9 10 11 12 13 14 15 16 17 18 19 20 21 22 23 24 25\n",
      " 26 27 28 29 30 31 32  6  0  1  2  3  4  5  7  8  9 10 11 12 13 14 15 16\n",
      " 17 18 19 20 21 22 23 24 25 26 27 28 29 30 31 32  6  0  1  3  4  5  7  8\n",
      "  9 10 11 12 13 14 15 16 17 18 19 21 22 24 26 27 28 29 30 31 32]\n",
      "645 645\n",
      "[ 0  1  2  3  4  5  6  7  8  9 10 11 12 13 14 15 16 17 18 19 20 21 22 23\n",
      " 24 25 26 27 28 29 30 31 32]\n"
     ]
    }
   ],
   "source": [
    "from sklearn.preprocessing import LabelEncoder\n",
    "encoded_area = LabelEncoder().fit_transform(dfc[\"area\"])\n",
    "print(encoded_area)\n",
    "print(len(encoded_area), len(dfc[\"area\"]))\n",
    "print(np.unique(encoded_area))"
   ]
  },
  {
   "cell_type": "code",
   "execution_count": 33,
   "metadata": {},
   "outputs": [],
   "source": [
    "dfc[\"area_label\"] = encoded_area"
   ]
  },
  {
   "cell_type": "code",
   "execution_count": 34,
   "metadata": {},
   "outputs": [],
   "source": [
    "def get_dataset(features):\n",
    "    # # filter just features\n",
    "    # df_features = df.loc[:, features]\n",
    "    # X = df_features.values.copy()\n",
    "    # y = df['']\n",
    "    # # filter genres and add label column\n",
    "    # df_features.loc[df['genres'].str.startswith('Action'),\"label\"] = 0\n",
    "    # df_features.loc[~df['genres'].str.startswith('Action') & df['genres'].str.contains('Adventure'),\"label\"] = 1\n",
    "    # df_features.loc[~df['genres'].str.startswith('Action') & ~df['genres'].str.contains('Adventure'),\"label\"] = 2\n",
    "\n",
    "    X = dfc.loc[:, features].values.copy()\n",
    "    y = dfc[\"area_label\"]\n",
    "    \n",
    "    return X, y\n",
    "\n",
    "def train(dataset, rf = True):\n",
    "    X, y = dataset\n",
    "    # fit the model\n",
    "    if rf:\n",
    "        model = RandomForestClassifier(oob_score=True, random_state=42, n_estimators=500, n_jobs=-1)\n",
    "        model.fit(X, y)\n",
    "        print(\"OOB accuracy\", model.oob_score_)\n",
    "    else:\n",
    "        X_train, X_test, y_train, y_test = train_test_split(X, y, test_size=0.2, random_state=42)\n",
    "        model = AdaBoostClassifier(n_estimators=500, random_state=42)\n",
    "        model.fit(X_train, y_train)\n",
    "        y_pred = model.predict(X_test)\n",
    "        accuracy = accuracy_score(y_test, y_pred)\n",
    "        print(\"accuracy\",accuracy)\n",
    "\n",
    "    # return feature importances\n",
    "    feature_importances = model.feature_importances_\n",
    "    print(\"Feature Importances:\", feature_importances)"
   ]
  },
  {
   "cell_type": "code",
   "execution_count": 35,
   "metadata": {},
   "outputs": [
    {
     "name": "stdout",
     "output_type": "stream",
     "text": [
      "OOB accuracy 0.4232558139534884\n",
      "Feature Importances: [0.46210708 0.53789292]\n"
     ]
    }
   ],
   "source": [
    "features = [\"mean_salary\", \"population_size\"]\n",
    "train(get_dataset(features))"
   ]
  },
  {
   "cell_type": "code",
   "execution_count": 36,
   "metadata": {},
   "outputs": [
    {
     "name": "stdout",
     "output_type": "stream",
     "text": [
      "OOB accuracy 0.7116279069767442\n",
      "Feature Importances: [0.19979877 0.34013924 0.1674578  0.10768326 0.18492093]\n"
     ]
    }
   ],
   "source": [
    "features = features + [\"median_salary\", \"date\", \"average_price\"]\n",
    "train(get_dataset(features))"
   ]
  },
  {
   "cell_type": "markdown",
   "metadata": {},
   "source": [
    "### Random Forest - Dataset II - Titanic\n",
    "\n",
    "By selecting 'fare' and 'Pclass', the Random Forest model yields an accuracy of 0.693 - adding feature 'gender' also significantly improve the model accuracy, suggesting that gender has a high effect on passengers chance of survival.\n"
   ]
  },
  {
   "cell_type": "markdown",
   "metadata": {},
   "source": [
    "#### dataset pre-processing\n",
    "\n",
    "- most cabin information is missing - hence drop the whole column from the dataset\n",
    "- quite a few age (as well as embarked) information is missing - instead of dropping the columns, I replaced the missing value with mean +- 10 and mode.\n",
    "- the updated df has 891 rows × 9 columns, providing information on survival status (0 = No, 1 = Yes), ticket class (1 = 1st, 2 = 2nd, 3 = 3rd), passenger name, gender, age, No. of siblings/spouses aboard the Titanic, No. of parents/children aboard the Titanic, ticket fare, and embarkation point.\n",
    "- imbalnced dataset? - the count of people who survived is less (38%) than the count of people who didn’t survive"
   ]
  },
  {
   "cell_type": "code",
   "execution_count": 37,
   "metadata": {},
   "outputs": [],
   "source": [
    "dfd_train = pd.read_csv(\"data/titanic-dataset-train.csv\")"
   ]
  },
  {
   "cell_type": "code",
   "execution_count": 38,
   "metadata": {},
   "outputs": [
    {
     "data": {
      "text/plain": [
       "PassengerId      0\n",
       "Survived         0\n",
       "Pclass           0\n",
       "Name             0\n",
       "Sex              0\n",
       "Age            177\n",
       "SibSp            0\n",
       "Parch            0\n",
       "Ticket           0\n",
       "Fare             0\n",
       "Cabin          687\n",
       "Embarked         2\n",
       "dtype: int64"
      ]
     },
     "execution_count": 38,
     "metadata": {},
     "output_type": "execute_result"
    }
   ],
   "source": [
    "# any missing values?\n",
    "# reference code found in: https://note.nkmk.me/en/python-pandas-nan-judge-count/\n",
    "dfd_train.isnull().sum()"
   ]
  },
  {
   "cell_type": "code",
   "execution_count": 39,
   "metadata": {},
   "outputs": [],
   "source": [
    "titanic = [dfd_train]\n",
    "mean = dfd_train[\"Age\"].mean()\n",
    "\n",
    "for dataset in titanic:\n",
    "    nan_num = dataset[\"Age\"].isnull().sum()\n",
    "    random_age = np.random.randint(mean - 10, mean + 10, size = nan_num)\n",
    "    # replace missing value with random number (mean+-10)\n",
    "    # reference code: https://stackoverflow.com/questions/6736590/fast-check-for-nan-in-numpy\n",
    "    nan = dataset[\"Age\"][np.isnan(dataset[\"Age\"])].index\n",
    "    dataset.loc[nan, \"Age\"] = random_age\n",
    "    # replacing missing value with mode\n",
    "    dataset['Embarked'] = dataset['Embarked'].fillna(dataset['Embarked'].mode()[0])\n",
    "\n",
    "# reference code: https://www.geeksforgeeks.org/python-pandas-dataframe-astype/\n",
    "dfd_train[\"Age\"] = dfd_train[\"Age\"].astype(int)\n",
    "dfd_train[\"Embarked\"] = dfd_train[\"Embarked\"].astype(str)"
   ]
  },
  {
   "cell_type": "code",
   "execution_count": 40,
   "metadata": {},
   "outputs": [],
   "source": [
    "# too many missing valus for cabin - remove the column\n",
    "dfd_train = dfd_train.drop([\"Cabin\", \"PassengerId\", \"Ticket\"], axis=1)"
   ]
  },
  {
   "cell_type": "code",
   "execution_count": 41,
   "metadata": {},
   "outputs": [
    {
     "data": {
      "text/html": [
       "<div>\n",
       "<style scoped>\n",
       "    .dataframe tbody tr th:only-of-type {\n",
       "        vertical-align: middle;\n",
       "    }\n",
       "\n",
       "    .dataframe tbody tr th {\n",
       "        vertical-align: top;\n",
       "    }\n",
       "\n",
       "    .dataframe thead th {\n",
       "        text-align: right;\n",
       "    }\n",
       "</style>\n",
       "<table border=\"1\" class=\"dataframe\">\n",
       "  <thead>\n",
       "    <tr style=\"text-align: right;\">\n",
       "      <th></th>\n",
       "      <th>Survived</th>\n",
       "      <th>Pclass</th>\n",
       "      <th>Name</th>\n",
       "      <th>Sex</th>\n",
       "      <th>Age</th>\n",
       "      <th>SibSp</th>\n",
       "      <th>Parch</th>\n",
       "      <th>Fare</th>\n",
       "      <th>Embarked</th>\n",
       "    </tr>\n",
       "  </thead>\n",
       "  <tbody>\n",
       "    <tr>\n",
       "      <th>0</th>\n",
       "      <td>0</td>\n",
       "      <td>3</td>\n",
       "      <td>Braund, Mr. Owen Harris</td>\n",
       "      <td>male</td>\n",
       "      <td>22</td>\n",
       "      <td>1</td>\n",
       "      <td>0</td>\n",
       "      <td>7.25000</td>\n",
       "      <td>S</td>\n",
       "    </tr>\n",
       "    <tr>\n",
       "      <th>1</th>\n",
       "      <td>1</td>\n",
       "      <td>1</td>\n",
       "      <td>Cumings, Mrs. John Bradley (Florence Briggs Th...</td>\n",
       "      <td>female</td>\n",
       "      <td>38</td>\n",
       "      <td>1</td>\n",
       "      <td>0</td>\n",
       "      <td>71.28330</td>\n",
       "      <td>C</td>\n",
       "    </tr>\n",
       "    <tr>\n",
       "      <th>2</th>\n",
       "      <td>1</td>\n",
       "      <td>3</td>\n",
       "      <td>Heikkinen, Miss. Laina</td>\n",
       "      <td>female</td>\n",
       "      <td>26</td>\n",
       "      <td>0</td>\n",
       "      <td>0</td>\n",
       "      <td>7.92500</td>\n",
       "      <td>S</td>\n",
       "    </tr>\n",
       "    <tr>\n",
       "      <th>3</th>\n",
       "      <td>1</td>\n",
       "      <td>1</td>\n",
       "      <td>Futrelle, Mrs. Jacques Heath (Lily May Peel)</td>\n",
       "      <td>female</td>\n",
       "      <td>35</td>\n",
       "      <td>1</td>\n",
       "      <td>0</td>\n",
       "      <td>53.10000</td>\n",
       "      <td>S</td>\n",
       "    </tr>\n",
       "    <tr>\n",
       "      <th>4</th>\n",
       "      <td>0</td>\n",
       "      <td>3</td>\n",
       "      <td>Allen, Mr. William Henry</td>\n",
       "      <td>male</td>\n",
       "      <td>35</td>\n",
       "      <td>0</td>\n",
       "      <td>0</td>\n",
       "      <td>8.05000</td>\n",
       "      <td>S</td>\n",
       "    </tr>\n",
       "    <tr>\n",
       "      <th>...</th>\n",
       "      <td>...</td>\n",
       "      <td>...</td>\n",
       "      <td>...</td>\n",
       "      <td>...</td>\n",
       "      <td>...</td>\n",
       "      <td>...</td>\n",
       "      <td>...</td>\n",
       "      <td>...</td>\n",
       "      <td>...</td>\n",
       "    </tr>\n",
       "    <tr>\n",
       "      <th>886</th>\n",
       "      <td>0</td>\n",
       "      <td>2</td>\n",
       "      <td>Montvila, Rev. Juozas</td>\n",
       "      <td>male</td>\n",
       "      <td>27</td>\n",
       "      <td>0</td>\n",
       "      <td>0</td>\n",
       "      <td>13.00000</td>\n",
       "      <td>S</td>\n",
       "    </tr>\n",
       "    <tr>\n",
       "      <th>887</th>\n",
       "      <td>1</td>\n",
       "      <td>1</td>\n",
       "      <td>Graham, Miss. Margaret Edith</td>\n",
       "      <td>female</td>\n",
       "      <td>19</td>\n",
       "      <td>0</td>\n",
       "      <td>0</td>\n",
       "      <td>30.00000</td>\n",
       "      <td>S</td>\n",
       "    </tr>\n",
       "    <tr>\n",
       "      <th>888</th>\n",
       "      <td>0</td>\n",
       "      <td>3</td>\n",
       "      <td>Johnston, Miss. Catherine Helen \"Carrie\"</td>\n",
       "      <td>female</td>\n",
       "      <td>21</td>\n",
       "      <td>1</td>\n",
       "      <td>2</td>\n",
       "      <td>23.45000</td>\n",
       "      <td>S</td>\n",
       "    </tr>\n",
       "    <tr>\n",
       "      <th>889</th>\n",
       "      <td>1</td>\n",
       "      <td>1</td>\n",
       "      <td>Behr, Mr. Karl Howell</td>\n",
       "      <td>male</td>\n",
       "      <td>26</td>\n",
       "      <td>0</td>\n",
       "      <td>0</td>\n",
       "      <td>30.00000</td>\n",
       "      <td>C</td>\n",
       "    </tr>\n",
       "    <tr>\n",
       "      <th>890</th>\n",
       "      <td>0</td>\n",
       "      <td>3</td>\n",
       "      <td>Dooley, Mr. Patrick</td>\n",
       "      <td>male</td>\n",
       "      <td>32</td>\n",
       "      <td>0</td>\n",
       "      <td>0</td>\n",
       "      <td>7.75000</td>\n",
       "      <td>Q</td>\n",
       "    </tr>\n",
       "  </tbody>\n",
       "</table>\n",
       "<p>891 rows × 9 columns</p>\n",
       "</div>"
      ],
      "text/plain": [
       "     Survived  Pclass                                               Name  \\\n",
       "0           0       3                            Braund, Mr. Owen Harris   \n",
       "1           1       1  Cumings, Mrs. John Bradley (Florence Briggs Th...   \n",
       "2           1       3                             Heikkinen, Miss. Laina   \n",
       "3           1       1       Futrelle, Mrs. Jacques Heath (Lily May Peel)   \n",
       "4           0       3                           Allen, Mr. William Henry   \n",
       "..        ...     ...                                                ...   \n",
       "886         0       2                              Montvila, Rev. Juozas   \n",
       "887         1       1                       Graham, Miss. Margaret Edith   \n",
       "888         0       3           Johnston, Miss. Catherine Helen \"Carrie\"   \n",
       "889         1       1                              Behr, Mr. Karl Howell   \n",
       "890         0       3                                Dooley, Mr. Patrick   \n",
       "\n",
       "        Sex  Age  SibSp  Parch     Fare Embarked  \n",
       "0      male   22      1      0  7.25000        S  \n",
       "1    female   38      1      0 71.28330        C  \n",
       "2    female   26      0      0  7.92500        S  \n",
       "3    female   35      1      0 53.10000        S  \n",
       "4      male   35      0      0  8.05000        S  \n",
       "..      ...  ...    ...    ...      ...      ...  \n",
       "886    male   27      0      0 13.00000        S  \n",
       "887  female   19      0      0 30.00000        S  \n",
       "888  female   21      1      2 23.45000        S  \n",
       "889    male   26      0      0 30.00000        C  \n",
       "890    male   32      0      0  7.75000        Q  \n",
       "\n",
       "[891 rows x 9 columns]"
      ]
     },
     "execution_count": 41,
     "metadata": {},
     "output_type": "execute_result"
    }
   ],
   "source": [
    "dfd_train"
   ]
  },
  {
   "cell_type": "code",
   "execution_count": 42,
   "metadata": {},
   "outputs": [
    {
     "data": {
      "text/plain": [
       "<Axes: ylabel='count'>"
      ]
     },
     "execution_count": 42,
     "metadata": {},
     "output_type": "execute_result"
    },
    {
     "data": {
      "image/png": "[encoded data removed]",
      "text/plain": [
       "<Figure size 432x288 with 1 Axes>"
      ]
     },
     "metadata": {},
     "output_type": "display_data"
    }
   ],
   "source": [
    "# reference code: https://www.statology.org/pandas-pie-chart/\n",
    "# reference code: https://www.geeksforgeeks.org/how-to-create-pie-chart-from-pandas-dataframe/\n",
    "dfd_train[\"Survived\"].value_counts(dropna=False).plot(kind=\"pie\", autopct='%1.0f%%')\n",
    "\n",
    "# 38% of the dataset survived"
   ]
  },
  {
   "cell_type": "markdown",
   "metadata": {},
   "source": [
    "#### modelling\n",
    "\n"
   ]
  },
  {
   "cell_type": "code",
   "execution_count": 43,
   "metadata": {},
   "outputs": [],
   "source": [
    "def get_dataset(features):\n",
    "    X = dfd_train.loc[:, features].values.copy()\n",
    "    y = dfd_train[\"Survived\"]\n",
    "    \n",
    "    return X, y\n",
    "\n",
    "def train(dataset, rf = True):\n",
    "    X, y = dataset\n",
    "    # fit the model\n",
    "    if rf:\n",
    "        model = RandomForestClassifier(oob_score=True, random_state=42, n_estimators=500, n_jobs=-1)\n",
    "        model.fit(X, y)\n",
    "        print(\"OOB accuracy\", model.oob_score_)\n",
    "    else:\n",
    "        X_train, X_test, y_train, y_test = train_test_split(X, y, test_size=0.2, random_state=42)\n",
    "        model = AdaBoostClassifier(n_estimators=500, random_state=42)\n",
    "        model.fit(X_train, y_train)\n",
    "        y_pred = model.predict(X_test)\n",
    "        accuracy = accuracy_score(y_test, y_pred)\n",
    "        print(\"accuracy\",accuracy)\n",
    "\n",
    "    # return feature importances\n",
    "    feature_importances = model.feature_importances_\n",
    "    print(\"Feature Importances:\", feature_importances)"
   ]
  },
  {
   "cell_type": "markdown",
   "metadata": {},
   "source": [
    "##### Out of Bag Accuracy\n",
    "\n",
    "Seems like that survival rate is associated with ticket class and fare"
   ]
  },
  {
   "cell_type": "code",
   "execution_count": 44,
   "metadata": {},
   "outputs": [
    {
     "name": "stdout",
     "output_type": "stream",
     "text": [
      "OOB accuracy 0.6790123456790124\n",
      "Feature Importances: [1.]\n"
     ]
    }
   ],
   "source": [
    "features = [\"Pclass\"]\n",
    "train(get_dataset(features))"
   ]
  },
  {
   "cell_type": "code",
   "execution_count": 45,
   "metadata": {},
   "outputs": [
    {
     "name": "stdout",
     "output_type": "stream",
     "text": [
      "OOB accuracy 0.6936026936026936\n",
      "Feature Importances: [1.]\n"
     ]
    }
   ],
   "source": [
    "features = [\"Fare\"]\n",
    "train(get_dataset(features))"
   ]
  },
  {
   "cell_type": "code",
   "execution_count": 46,
   "metadata": {},
   "outputs": [
    {
     "name": "stdout",
     "output_type": "stream",
     "text": [
      "OOB accuracy 0.6936026936026936\n",
      "Feature Importances: [0.13929261 0.86070739]\n"
     ]
    }
   ],
   "source": [
    "features = [\"Pclass\", \"Fare\"]\n",
    "train(get_dataset(features))"
   ]
  },
  {
   "cell_type": "code",
   "execution_count": 47,
   "metadata": {},
   "outputs": [
    {
     "name": "stdout",
     "output_type": "stream",
     "text": [
      "OOB accuracy 0.6677890011223344\n",
      "Feature Importances: [0.08919464 0.49614478 0.41466058]\n"
     ]
    }
   ],
   "source": [
    "features = features + [\"Age\"]\n",
    "train(get_dataset(features))"
   ]
  },
  {
   "cell_type": "code",
   "execution_count": 48,
   "metadata": {},
   "outputs": [
    {
     "name": "stdout",
     "output_type": "stream",
     "text": [
      "OOB accuracy 0.6689113355780022\n",
      "Feature Importances: [0.08764715 0.4416127  0.41065037 0.06008979]\n"
     ]
    }
   ],
   "source": [
    "features = features + [\"SibSp\"]\n",
    "train(get_dataset(features))"
   ]
  },
  {
   "cell_type": "code",
   "execution_count": 49,
   "metadata": {},
   "outputs": [
    {
     "name": "stdout",
     "output_type": "stream",
     "text": [
      "OOB accuracy 0.6857463524130191\n",
      "Feature Importances: [0.08655816 0.41882776 0.39161003 0.05684578 0.04615827]\n"
     ]
    }
   ],
   "source": [
    "features = features + [\"Parch\"]\n",
    "train(get_dataset(features))"
   ]
  },
  {
   "cell_type": "markdown",
   "metadata": {},
   "source": [
    "#### would gender affects the chance of survival?\n",
    "\n",
    "Yes! - passenger's gender seems to have a high effect on their chance of survival"
   ]
  },
  {
   "cell_type": "code",
   "execution_count": 50,
   "metadata": {},
   "outputs": [
    {
     "data": {
      "text/plain": [
       "Sex\n",
       "male      577\n",
       "female    314\n",
       "Name: count, dtype: int64"
      ]
     },
     "execution_count": 50,
     "metadata": {},
     "output_type": "execute_result"
    }
   ],
   "source": [
    "# categorical encoding - gender?\n",
    "dfd_train[\"Sex\"].value_counts().head(20)"
   ]
  },
  {
   "cell_type": "code",
   "execution_count": 51,
   "metadata": {},
   "outputs": [
    {
     "ename": "NameError",
     "evalue": "name 'dfd_test' is not defined",
     "output_type": "error",
     "traceback": [
      "\u001b[0;31m---------------------------------------------------------------------------\u001b[0m",
      "\u001b[0;31mNameError\u001b[0m                                 Traceback (most recent call last)",
      "Cell \u001b[0;32mIn[51], line 1\u001b[0m\n\u001b[0;32m----> 1\u001b[0m \u001b[43mdfd_test\u001b[49m[\u001b[38;5;124m\"\u001b[39m\u001b[38;5;124mSex\u001b[39m\u001b[38;5;124m\"\u001b[39m]\u001b[38;5;241m.\u001b[39mvalue_counts()\u001b[38;5;241m.\u001b[39mhead(\u001b[38;5;241m20\u001b[39m)\n",
      "\u001b[0;31mNameError\u001b[0m: name 'dfd_test' is not defined"
     ]
    }
   ],
   "source": [
    "dfd_test[\"Sex\"].value_counts().head(20)"
   ]
  },
  {
   "cell_type": "code",
   "execution_count": null,
   "metadata": {},
   "outputs": [],
   "source": [
    "# assign female = 0, male = 1\n",
    "dfd_train.loc[dfd_train['Sex'].str.contains('female'), 'gender'] = 0\n",
    "dfd_train.loc[~dfd_train['Sex'].str.contains('female'), 'gender'] = 1\n",
    "dfd_test.loc[dfd_test['Sex'].str.contains('female'), 'gender'] = 0\n",
    "dfd_test.loc[~dfd_test['Sex'].str.contains('female'), 'gender'] = 1"
   ]
  },
  {
   "cell_type": "code",
   "execution_count": null,
   "metadata": {},
   "outputs": [
    {
     "data": {
      "text/html": [
       "<div>\n",
       "<style scoped>\n",
       "    .dataframe tbody tr th:only-of-type {\n",
       "        vertical-align: middle;\n",
       "    }\n",
       "\n",
       "    .dataframe tbody tr th {\n",
       "        vertical-align: top;\n",
       "    }\n",
       "\n",
       "    .dataframe thead th {\n",
       "        text-align: right;\n",
       "    }\n",
       "</style>\n",
       "<table border=\"1\" class=\"dataframe\">\n",
       "  <thead>\n",
       "    <tr style=\"text-align: right;\">\n",
       "      <th></th>\n",
       "      <th>Survived</th>\n",
       "      <th>Pclass</th>\n",
       "      <th>Name</th>\n",
       "      <th>Sex</th>\n",
       "      <th>Age</th>\n",
       "      <th>SibSp</th>\n",
       "      <th>Parch</th>\n",
       "      <th>Fare</th>\n",
       "      <th>Embarked</th>\n",
       "      <th>gender</th>\n",
       "    </tr>\n",
       "  </thead>\n",
       "  <tbody>\n",
       "    <tr>\n",
       "      <th>0</th>\n",
       "      <td>0</td>\n",
       "      <td>3</td>\n",
       "      <td>Braund, Mr. Owen Harris</td>\n",
       "      <td>male</td>\n",
       "      <td>22</td>\n",
       "      <td>1</td>\n",
       "      <td>0</td>\n",
       "      <td>7.25000</td>\n",
       "      <td>S</td>\n",
       "      <td>1.00000</td>\n",
       "    </tr>\n",
       "    <tr>\n",
       "      <th>1</th>\n",
       "      <td>1</td>\n",
       "      <td>1</td>\n",
       "      <td>Cumings, Mrs. John Bradley (Florence Briggs Th...</td>\n",
       "      <td>female</td>\n",
       "      <td>38</td>\n",
       "      <td>1</td>\n",
       "      <td>0</td>\n",
       "      <td>71.28330</td>\n",
       "      <td>C</td>\n",
       "      <td>0.00000</td>\n",
       "    </tr>\n",
       "    <tr>\n",
       "      <th>2</th>\n",
       "      <td>1</td>\n",
       "      <td>3</td>\n",
       "      <td>Heikkinen, Miss. Laina</td>\n",
       "      <td>female</td>\n",
       "      <td>26</td>\n",
       "      <td>0</td>\n",
       "      <td>0</td>\n",
       "      <td>7.92500</td>\n",
       "      <td>S</td>\n",
       "      <td>0.00000</td>\n",
       "    </tr>\n",
       "    <tr>\n",
       "      <th>3</th>\n",
       "      <td>1</td>\n",
       "      <td>1</td>\n",
       "      <td>Futrelle, Mrs. Jacques Heath (Lily May Peel)</td>\n",
       "      <td>female</td>\n",
       "      <td>35</td>\n",
       "      <td>1</td>\n",
       "      <td>0</td>\n",
       "      <td>53.10000</td>\n",
       "      <td>S</td>\n",
       "      <td>0.00000</td>\n",
       "    </tr>\n",
       "    <tr>\n",
       "      <th>4</th>\n",
       "      <td>0</td>\n",
       "      <td>3</td>\n",
       "      <td>Allen, Mr. William Henry</td>\n",
       "      <td>male</td>\n",
       "      <td>35</td>\n",
       "      <td>0</td>\n",
       "      <td>0</td>\n",
       "      <td>8.05000</td>\n",
       "      <td>S</td>\n",
       "      <td>1.00000</td>\n",
       "    </tr>\n",
       "    <tr>\n",
       "      <th>...</th>\n",
       "      <td>...</td>\n",
       "      <td>...</td>\n",
       "      <td>...</td>\n",
       "      <td>...</td>\n",
       "      <td>...</td>\n",
       "      <td>...</td>\n",
       "      <td>...</td>\n",
       "      <td>...</td>\n",
       "      <td>...</td>\n",
       "      <td>...</td>\n",
       "    </tr>\n",
       "    <tr>\n",
       "      <th>886</th>\n",
       "      <td>0</td>\n",
       "      <td>2</td>\n",
       "      <td>Montvila, Rev. Juozas</td>\n",
       "      <td>male</td>\n",
       "      <td>27</td>\n",
       "      <td>0</td>\n",
       "      <td>0</td>\n",
       "      <td>13.00000</td>\n",
       "      <td>S</td>\n",
       "      <td>1.00000</td>\n",
       "    </tr>\n",
       "    <tr>\n",
       "      <th>887</th>\n",
       "      <td>1</td>\n",
       "      <td>1</td>\n",
       "      <td>Graham, Miss. Margaret Edith</td>\n",
       "      <td>female</td>\n",
       "      <td>19</td>\n",
       "      <td>0</td>\n",
       "      <td>0</td>\n",
       "      <td>30.00000</td>\n",
       "      <td>S</td>\n",
       "      <td>0.00000</td>\n",
       "    </tr>\n",
       "    <tr>\n",
       "      <th>888</th>\n",
       "      <td>0</td>\n",
       "      <td>3</td>\n",
       "      <td>Johnston, Miss. Catherine Helen \"Carrie\"</td>\n",
       "      <td>female</td>\n",
       "      <td>28</td>\n",
       "      <td>1</td>\n",
       "      <td>2</td>\n",
       "      <td>23.45000</td>\n",
       "      <td>S</td>\n",
       "      <td>0.00000</td>\n",
       "    </tr>\n",
       "    <tr>\n",
       "      <th>889</th>\n",
       "      <td>1</td>\n",
       "      <td>1</td>\n",
       "      <td>Behr, Mr. Karl Howell</td>\n",
       "      <td>male</td>\n",
       "      <td>26</td>\n",
       "      <td>0</td>\n",
       "      <td>0</td>\n",
       "      <td>30.00000</td>\n",
       "      <td>C</td>\n",
       "      <td>1.00000</td>\n",
       "    </tr>\n",
       "    <tr>\n",
       "      <th>890</th>\n",
       "      <td>0</td>\n",
       "      <td>3</td>\n",
       "      <td>Dooley, Mr. Patrick</td>\n",
       "      <td>male</td>\n",
       "      <td>32</td>\n",
       "      <td>0</td>\n",
       "      <td>0</td>\n",
       "      <td>7.75000</td>\n",
       "      <td>Q</td>\n",
       "      <td>1.00000</td>\n",
       "    </tr>\n",
       "  </tbody>\n",
       "</table>\n",
       "<p>891 rows × 10 columns</p>\n",
       "</div>"
      ],
      "text/plain": [
       "     Survived  Pclass                                               Name  \\\n",
       "0           0       3                            Braund, Mr. Owen Harris   \n",
       "1           1       1  Cumings, Mrs. John Bradley (Florence Briggs Th...   \n",
       "2           1       3                             Heikkinen, Miss. Laina   \n",
       "3           1       1       Futrelle, Mrs. Jacques Heath (Lily May Peel)   \n",
       "4           0       3                           Allen, Mr. William Henry   \n",
       "..        ...     ...                                                ...   \n",
       "886         0       2                              Montvila, Rev. Juozas   \n",
       "887         1       1                       Graham, Miss. Margaret Edith   \n",
       "888         0       3           Johnston, Miss. Catherine Helen \"Carrie\"   \n",
       "889         1       1                              Behr, Mr. Karl Howell   \n",
       "890         0       3                                Dooley, Mr. Patrick   \n",
       "\n",
       "        Sex  Age  SibSp  Parch     Fare Embarked  gender  \n",
       "0      male   22      1      0  7.25000        S 1.00000  \n",
       "1    female   38      1      0 71.28330        C 0.00000  \n",
       "2    female   26      0      0  7.92500        S 0.00000  \n",
       "3    female   35      1      0 53.10000        S 0.00000  \n",
       "4      male   35      0      0  8.05000        S 1.00000  \n",
       "..      ...  ...    ...    ...      ...      ...     ...  \n",
       "886    male   27      0      0 13.00000        S 1.00000  \n",
       "887  female   19      0      0 30.00000        S 0.00000  \n",
       "888  female   28      1      2 23.45000        S 0.00000  \n",
       "889    male   26      0      0 30.00000        C 1.00000  \n",
       "890    male   32      0      0  7.75000        Q 1.00000  \n",
       "\n",
       "[891 rows x 10 columns]"
      ]
     },
     "execution_count": 206,
     "metadata": {},
     "output_type": "execute_result"
    }
   ],
   "source": [
    "dfd_train"
   ]
  },
  {
   "cell_type": "code",
   "execution_count": null,
   "metadata": {},
   "outputs": [
    {
     "name": "stdout",
     "output_type": "stream",
     "text": [
      "OOB accuracy 0.8204264870931538\n",
      "Feature Importances: [0.10834905 0.54614096 0.34550999]\n"
     ]
    }
   ],
   "source": [
    "features = [\"Pclass\", \"Fare\"]\n",
    "features = features + [\"gender\"]\n",
    "train(get_dataset(features))"
   ]
  },
  {
   "cell_type": "markdown",
   "metadata": {},
   "source": [
    "#### and how about adding other features?\n",
    "\n",
    "The accuracy dropped after adding this new feature, indicating that a passenger’s embarkation point also seems to be irrelevant to their survival rate."
   ]
  },
  {
   "cell_type": "code",
   "execution_count": null,
   "metadata": {},
   "outputs": [
    {
     "name": "stdout",
     "output_type": "stream",
     "text": [
      "OOB accuracy 0.8080808080808081\n",
      "Feature Importances: [0.09841051 0.32605562 0.27931433 0.29621955]\n"
     ]
    }
   ],
   "source": [
    "features = [\"Pclass\", \"Fare\", \"gender\"]\n",
    "features = features + [\"Age\"]\n",
    "train(get_dataset(features))"
   ]
  },
  {
   "cell_type": "code",
   "execution_count": null,
   "metadata": {},
   "outputs": [
    {
     "name": "stdout",
     "output_type": "stream",
     "text": [
      "OOB accuracy 0.8148148148148148\n",
      "Feature Importances: [0.11565975 0.48068444 0.34593304 0.05772278]\n"
     ]
    }
   ],
   "source": [
    "features = [\"Pclass\", \"Fare\", \"gender\"]\n",
    "features = features + [\"Parch\"]\n",
    "train(get_dataset(features))"
   ]
  },
  {
   "cell_type": "code",
   "execution_count": null,
   "metadata": {},
   "outputs": [
    {
     "name": "stdout",
     "output_type": "stream",
     "text": [
      "OOB accuracy 0.8125701459034792\n",
      "Feature Importances: [0.10820629 0.48881663 0.34629487 0.0566822 ]\n"
     ]
    }
   ],
   "source": [
    "features = [\"Pclass\", \"Fare\", \"gender\"]\n",
    "features = features + [\"SibSp\"]\n",
    "train(get_dataset(features))"
   ]
  },
  {
   "cell_type": "code",
   "execution_count": null,
   "metadata": {},
   "outputs": [],
   "source": [
    "# encode 'embarked' column\n",
    "from sklearn.preprocessing import LabelEncoder\n",
    "encoded_embarked = LabelEncoder().fit_transform(dfd_train[\"Embarked\"])\n",
    "print(encoded_embarked)\n",
    "print(len(encoded_embarked), len(dfd_train[\"Embarked\"]))\n",
    "print(np.unique(encoded_embarked))"
   ]
  },
  {
   "cell_type": "code",
   "execution_count": null,
   "metadata": {},
   "outputs": [],
   "source": [
    "dfd_train[\"Encoded_embarked\"] = encoded_embarked"
   ]
  },
  {
   "cell_type": "code",
   "execution_count": null,
   "metadata": {},
   "outputs": [
    {
     "data": {
      "text/html": [
       "<div>\n",
       "<style scoped>\n",
       "    .dataframe tbody tr th:only-of-type {\n",
       "        vertical-align: middle;\n",
       "    }\n",
       "\n",
       "    .dataframe tbody tr th {\n",
       "        vertical-align: top;\n",
       "    }\n",
       "\n",
       "    .dataframe thead th {\n",
       "        text-align: right;\n",
       "    }\n",
       "</style>\n",
       "<table border=\"1\" class=\"dataframe\">\n",
       "  <thead>\n",
       "    <tr style=\"text-align: right;\">\n",
       "      <th></th>\n",
       "      <th>Survived</th>\n",
       "      <th>Pclass</th>\n",
       "      <th>Name</th>\n",
       "      <th>Sex</th>\n",
       "      <th>Age</th>\n",
       "      <th>SibSp</th>\n",
       "      <th>Parch</th>\n",
       "      <th>Fare</th>\n",
       "      <th>Embarked</th>\n",
       "      <th>gender</th>\n",
       "      <th>Encoded_embarked</th>\n",
       "    </tr>\n",
       "  </thead>\n",
       "  <tbody>\n",
       "    <tr>\n",
       "      <th>0</th>\n",
       "      <td>0</td>\n",
       "      <td>3</td>\n",
       "      <td>Braund, Mr. Owen Harris</td>\n",
       "      <td>male</td>\n",
       "      <td>22</td>\n",
       "      <td>1</td>\n",
       "      <td>0</td>\n",
       "      <td>7.25000</td>\n",
       "      <td>S</td>\n",
       "      <td>1.00000</td>\n",
       "      <td>2</td>\n",
       "    </tr>\n",
       "    <tr>\n",
       "      <th>1</th>\n",
       "      <td>1</td>\n",
       "      <td>1</td>\n",
       "      <td>Cumings, Mrs. John Bradley (Florence Briggs Th...</td>\n",
       "      <td>female</td>\n",
       "      <td>38</td>\n",
       "      <td>1</td>\n",
       "      <td>0</td>\n",
       "      <td>71.28330</td>\n",
       "      <td>C</td>\n",
       "      <td>0.00000</td>\n",
       "      <td>0</td>\n",
       "    </tr>\n",
       "    <tr>\n",
       "      <th>2</th>\n",
       "      <td>1</td>\n",
       "      <td>3</td>\n",
       "      <td>Heikkinen, Miss. Laina</td>\n",
       "      <td>female</td>\n",
       "      <td>26</td>\n",
       "      <td>0</td>\n",
       "      <td>0</td>\n",
       "      <td>7.92500</td>\n",
       "      <td>S</td>\n",
       "      <td>0.00000</td>\n",
       "      <td>2</td>\n",
       "    </tr>\n",
       "    <tr>\n",
       "      <th>3</th>\n",
       "      <td>1</td>\n",
       "      <td>1</td>\n",
       "      <td>Futrelle, Mrs. Jacques Heath (Lily May Peel)</td>\n",
       "      <td>female</td>\n",
       "      <td>35</td>\n",
       "      <td>1</td>\n",
       "      <td>0</td>\n",
       "      <td>53.10000</td>\n",
       "      <td>S</td>\n",
       "      <td>0.00000</td>\n",
       "      <td>2</td>\n",
       "    </tr>\n",
       "    <tr>\n",
       "      <th>4</th>\n",
       "      <td>0</td>\n",
       "      <td>3</td>\n",
       "      <td>Allen, Mr. William Henry</td>\n",
       "      <td>male</td>\n",
       "      <td>35</td>\n",
       "      <td>0</td>\n",
       "      <td>0</td>\n",
       "      <td>8.05000</td>\n",
       "      <td>S</td>\n",
       "      <td>1.00000</td>\n",
       "      <td>2</td>\n",
       "    </tr>\n",
       "    <tr>\n",
       "      <th>...</th>\n",
       "      <td>...</td>\n",
       "      <td>...</td>\n",
       "      <td>...</td>\n",
       "      <td>...</td>\n",
       "      <td>...</td>\n",
       "      <td>...</td>\n",
       "      <td>...</td>\n",
       "      <td>...</td>\n",
       "      <td>...</td>\n",
       "      <td>...</td>\n",
       "      <td>...</td>\n",
       "    </tr>\n",
       "    <tr>\n",
       "      <th>886</th>\n",
       "      <td>0</td>\n",
       "      <td>2</td>\n",
       "      <td>Montvila, Rev. Juozas</td>\n",
       "      <td>male</td>\n",
       "      <td>27</td>\n",
       "      <td>0</td>\n",
       "      <td>0</td>\n",
       "      <td>13.00000</td>\n",
       "      <td>S</td>\n",
       "      <td>1.00000</td>\n",
       "      <td>2</td>\n",
       "    </tr>\n",
       "    <tr>\n",
       "      <th>887</th>\n",
       "      <td>1</td>\n",
       "      <td>1</td>\n",
       "      <td>Graham, Miss. Margaret Edith</td>\n",
       "      <td>female</td>\n",
       "      <td>19</td>\n",
       "      <td>0</td>\n",
       "      <td>0</td>\n",
       "      <td>30.00000</td>\n",
       "      <td>S</td>\n",
       "      <td>0.00000</td>\n",
       "      <td>2</td>\n",
       "    </tr>\n",
       "    <tr>\n",
       "      <th>888</th>\n",
       "      <td>0</td>\n",
       "      <td>3</td>\n",
       "      <td>Johnston, Miss. Catherine Helen \"Carrie\"</td>\n",
       "      <td>female</td>\n",
       "      <td>28</td>\n",
       "      <td>1</td>\n",
       "      <td>2</td>\n",
       "      <td>23.45000</td>\n",
       "      <td>S</td>\n",
       "      <td>0.00000</td>\n",
       "      <td>2</td>\n",
       "    </tr>\n",
       "    <tr>\n",
       "      <th>889</th>\n",
       "      <td>1</td>\n",
       "      <td>1</td>\n",
       "      <td>Behr, Mr. Karl Howell</td>\n",
       "      <td>male</td>\n",
       "      <td>26</td>\n",
       "      <td>0</td>\n",
       "      <td>0</td>\n",
       "      <td>30.00000</td>\n",
       "      <td>C</td>\n",
       "      <td>1.00000</td>\n",
       "      <td>0</td>\n",
       "    </tr>\n",
       "    <tr>\n",
       "      <th>890</th>\n",
       "      <td>0</td>\n",
       "      <td>3</td>\n",
       "      <td>Dooley, Mr. Patrick</td>\n",
       "      <td>male</td>\n",
       "      <td>32</td>\n",
       "      <td>0</td>\n",
       "      <td>0</td>\n",
       "      <td>7.75000</td>\n",
       "      <td>Q</td>\n",
       "      <td>1.00000</td>\n",
       "      <td>1</td>\n",
       "    </tr>\n",
       "  </tbody>\n",
       "</table>\n",
       "<p>891 rows × 11 columns</p>\n",
       "</div>"
      ],
      "text/plain": [
       "     Survived  Pclass                                               Name  \\\n",
       "0           0       3                            Braund, Mr. Owen Harris   \n",
       "1           1       1  Cumings, Mrs. John Bradley (Florence Briggs Th...   \n",
       "2           1       3                             Heikkinen, Miss. Laina   \n",
       "3           1       1       Futrelle, Mrs. Jacques Heath (Lily May Peel)   \n",
       "4           0       3                           Allen, Mr. William Henry   \n",
       "..        ...     ...                                                ...   \n",
       "886         0       2                              Montvila, Rev. Juozas   \n",
       "887         1       1                       Graham, Miss. Margaret Edith   \n",
       "888         0       3           Johnston, Miss. Catherine Helen \"Carrie\"   \n",
       "889         1       1                              Behr, Mr. Karl Howell   \n",
       "890         0       3                                Dooley, Mr. Patrick   \n",
       "\n",
       "        Sex  Age  SibSp  Parch     Fare Embarked  gender  Encoded_embarked  \n",
       "0      male   22      1      0  7.25000        S 1.00000                 2  \n",
       "1    female   38      1      0 71.28330        C 0.00000                 0  \n",
       "2    female   26      0      0  7.92500        S 0.00000                 2  \n",
       "3    female   35      1      0 53.10000        S 0.00000                 2  \n",
       "4      male   35      0      0  8.05000        S 1.00000                 2  \n",
       "..      ...  ...    ...    ...      ...      ...     ...               ...  \n",
       "886    male   27      0      0 13.00000        S 1.00000                 2  \n",
       "887  female   19      0      0 30.00000        S 0.00000                 2  \n",
       "888  female   28      1      2 23.45000        S 0.00000                 2  \n",
       "889    male   26      0      0 30.00000        C 1.00000                 0  \n",
       "890    male   32      0      0  7.75000        Q 1.00000                 1  \n",
       "\n",
       "[891 rows x 11 columns]"
      ]
     },
     "execution_count": 214,
     "metadata": {},
     "output_type": "execute_result"
    }
   ],
   "source": [
    "dfd_train"
   ]
  },
  {
   "cell_type": "code",
   "execution_count": null,
   "metadata": {},
   "outputs": [
    {
     "name": "stdout",
     "output_type": "stream",
     "text": [
      "OOB accuracy 0.8170594837261503\n",
      "Feature Importances: [0.11693745 0.49143569 0.35486526 0.0367616 ]\n"
     ]
    }
   ],
   "source": [
    "features = [\"Pclass\", \"Fare\", \"gender\"]\n",
    "features = features + [\"Encoded_embarked\"]\n",
    "train(get_dataset(features))"
   ]
  },
  {
   "cell_type": "code",
   "execution_count": null,
   "metadata": {},
   "outputs": [
    {
     "name": "stdout",
     "output_type": "stream",
     "text": [
      "OOB accuracy 0.8080808080808081\n",
      "Feature Importances: [0.09841051 0.32605562 0.27931433 0.29621955]\n"
     ]
    }
   ],
   "source": [
    "features = [\"Pclass\", \"Fare\", \"gender\"]\n",
    "features = features + [\"Age\"]\n",
    "train(get_dataset(features))"
   ]
  },
  {
   "cell_type": "markdown",
   "metadata": {},
   "source": [
    "### Reflection"
   ]
  },
  {
   "cell_type": "markdown",
   "metadata": {},
   "source": [
    "-\tThe handle of missing data \n",
    "    - In the above exercise, a full column has been removed from the dataset and some of the other missing data is replaced with mean/mode – easier to compute a model but it also leads to biased estimates and a decrease in the model’s predictive power.\n",
    "    - Removing data also leads to a potential ethical problem – especially in such cases that involve individuals/perspectives in real life, incomplete dataset will only lead to incomplete and flawed analysis, missing data needs to be handled very carefully, and consider not only its numeric value but also its social and cultural meanings.\n",
    "\n",
    "-\tOther features\n",
    "    - The model only considers some of the most obvious features – other features such as age group, last name, cabin floor (which depends on the cabin number), and whether they were travelling alone also need to be considered, when possible, to improve the model’s performance. \n",
    "    - While more features are NOT necessarily always better – having a comprehensive dataset or a broad set of information at the very beginning is beneficial and can help us better understand and identify features. \n",
    "\n",
    "-\tModel Selection\n",
    "    - It seems that ensemble models (such as the random forests here) that combine multiple models are often better than individual models, then why not always use ensemble modelling? – in the case of housing prices in this exercise, some relationships (e.g., `date` & `avg. housing price`, refer to exercise 2) can already be explained well by linear correlation/regression, ensemble models may be able to increase accuracy but may also doesn’t really worth the hassle, it would be more obvious if we have a very large dataset, as ensemble models are more complicated (more computational resources) and harder to tune and to explain – accuracy is not the only parameter, multiple factors related to the context of the problem needs to be considered together when selecting a model, especially in solving real life problems. "
   ]
  },
  {
   "cell_type": "markdown",
   "metadata": {},
   "source": [
    "### Code References"
   ]
  },
  {
   "cell_type": "markdown",
   "metadata": {},
   "source": [
    "[1] https://stackoverflow.com/questions/60481193/how-to-select-rows-in-a-dataframe-based-on-an-or-operator-of-values-of-a-colum\n",
    "\n",
    "[2] https://stackoverflow.com/questions/39078781/filter-a-pandas-data-frame-on-all-rows-that-do-not-meet-a-condition\n",
    "\n",
    "[3] https://scikit-learn.org/stable/modules/model_evaluation.html\n",
    "\n",
    "[4] https://www.geeksforgeeks.org/python-pandas-dataframe-isin/\n",
    "\n",
    "[5] https://www.statology.org/pandas-pie-chart/\n",
    "\n",
    "[6] https://stackoverflow.com/questions/6736590/fast-check-for-nan-in-numpy\n",
    "\n",
    "[7] https://en.wikipedia.org/wiki/London_boroughs"
   ]
  },
  {
   "cell_type": "markdown",
   "metadata": {},
   "source": [
    "ChatGPT 3.5 has been used in this exercise for minor code debugging and proofreading."
   ]
  }
 ],
 "metadata": {
  "kernelspec": {
   "display_name": "stem",
   "language": "python",
   "name": "python3"
  },
  "language_info": {
   "codemirror_mode": {
    "name": "ipython",
    "version": 3
   },
   "file_extension": ".py",
   "mimetype": "text/x-python",
   "name": "python",
   "nbconvert_exporter": "python",
   "pygments_lexer": "ipython3",
   "version": "3.9.18"
  }
 },
 "nbformat": 4,
 "nbformat_minor": 2
}
